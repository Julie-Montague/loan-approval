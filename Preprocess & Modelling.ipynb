{
 "cells": [
  {
   "cell_type": "code",
   "execution_count": 2,
   "id": "5520c5ab",
   "metadata": {},
   "outputs": [
    {
     "name": "stderr",
     "output_type": "stream",
     "text": [
      "C:\\Users\\user\\anaconda3\\lib\\site-packages\\pandas\\core\\computation\\expressions.py:21: UserWarning: Pandas requires version '2.8.4' or newer of 'numexpr' (version '2.8.3' currently installed).\n",
      "  from pandas.core.computation.check import NUMEXPR_INSTALLED\n",
      "C:\\Users\\user\\anaconda3\\lib\\site-packages\\pandas\\core\\arrays\\masked.py:60: UserWarning: Pandas requires version '1.3.6' or newer of 'bottleneck' (version '1.3.5' currently installed).\n",
      "  from pandas.core import (\n"
     ]
    }
   ],
   "source": [
    "#base\n",
    "import pandas as pd\n",
    "import numpy as np\n",
    "import os\n",
    "import time\n",
    "from contextlib import contextmanager\n",
    "import sys\n",
    "import joblib\n",
    "\n",
    "#plots\n",
    "import seaborn as sns\n",
    "import matplotlib.pyplot as plt\n",
    "\n",
    "#preprocessing\n",
    "from sklearn.preprocessing import StandardScaler,RobustScaler,LabelEncoder\n",
    "from statsmodels.stats.outliers_influence import variance_inflation_factor\n",
    "from sklearn.inspection import PartialDependenceDisplay\n",
    "from scipy.stats import spearmanr\n",
    "from imblearn.over_sampling import RandomOverSampler\n",
    "from imblearn.under_sampling import RandomUnderSampler\n",
    "from imblearn.over_sampling import SMOTE\n",
    "from sklearn.model_selection import GridSearchCV,RandomizedSearchCV,GridSearchCV\n",
    "from sklearn.pipeline import make_pipeline,Pipeline\n",
    "from sklearn.feature_selection import SelectFromModel\n",
    "from sklearn.linear_model import Lasso\n",
    "\n",
    "#train test split\n",
    "from sklearn.model_selection import train_test_split\n",
    "from sklearn.preprocessing import StandardScaler,RobustScaler\n",
    "\n",
    "#models\n",
    "from sklearn.inspection import permutation_importance\n",
    "from sklearn.linear_model import LogisticRegression\n",
    "from sklearn.ensemble import GradientBoostingClassifier\n",
    "from sklearn.ensemble import RandomForestClassifier\n",
    "from sklearn.naive_bayes import GaussianNB\n",
    "from sklearn.tree import DecisionTreeClassifier\n",
    "from sklearn.neighbors import KNeighborsClassifier\n",
    "from sklearn import metrics\n",
    "from sklearn.metrics import classification_report,confusion_matrix,precision_recall_curve,roc_auc_score,precision_score,accuracy_score,recall_score,f1_score\n",
    "\n",
    "import warnings\n",
    "warnings.filterwarnings('ignore')"
   ]
  },
  {
   "cell_type": "code",
   "execution_count": 3,
   "id": "22110d35",
   "metadata": {},
   "outputs": [],
   "source": [
    "file_start = time.time()"
   ]
  },
  {
   "cell_type": "code",
   "execution_count": 4,
   "id": "ac18fe8f",
   "metadata": {},
   "outputs": [],
   "source": [
    "data = pd.read_csv(\"loan_data.csv\")"
   ]
  },
  {
   "cell_type": "code",
   "execution_count": 5,
   "id": "d11d4d63",
   "metadata": {},
   "outputs": [
    {
     "data": {
      "text/html": [
       "<div>\n",
       "<style scoped>\n",
       "    .dataframe tbody tr th:only-of-type {\n",
       "        vertical-align: middle;\n",
       "    }\n",
       "\n",
       "    .dataframe tbody tr th {\n",
       "        vertical-align: top;\n",
       "    }\n",
       "\n",
       "    .dataframe thead th {\n",
       "        text-align: right;\n",
       "    }\n",
       "</style>\n",
       "<table border=\"1\" class=\"dataframe\">\n",
       "  <thead>\n",
       "    <tr style=\"text-align: right;\">\n",
       "      <th></th>\n",
       "      <th>person_age</th>\n",
       "      <th>person_gender</th>\n",
       "      <th>person_education</th>\n",
       "      <th>person_income</th>\n",
       "      <th>person_emp_exp</th>\n",
       "      <th>person_home_ownership</th>\n",
       "      <th>loan_amnt</th>\n",
       "      <th>loan_intent</th>\n",
       "      <th>loan_int_rate</th>\n",
       "      <th>loan_percent_income</th>\n",
       "      <th>cb_person_cred_hist_length</th>\n",
       "      <th>credit_score</th>\n",
       "      <th>previous_loan_defaults_on_file</th>\n",
       "      <th>loan_status</th>\n",
       "    </tr>\n",
       "  </thead>\n",
       "  <tbody>\n",
       "    <tr>\n",
       "      <th>0</th>\n",
       "      <td>22.0</td>\n",
       "      <td>female</td>\n",
       "      <td>Master</td>\n",
       "      <td>71948.0</td>\n",
       "      <td>0</td>\n",
       "      <td>RENT</td>\n",
       "      <td>35000.0</td>\n",
       "      <td>PERSONAL</td>\n",
       "      <td>16.02</td>\n",
       "      <td>0.49</td>\n",
       "      <td>3.0</td>\n",
       "      <td>561</td>\n",
       "      <td>No</td>\n",
       "      <td>1</td>\n",
       "    </tr>\n",
       "    <tr>\n",
       "      <th>1</th>\n",
       "      <td>21.0</td>\n",
       "      <td>female</td>\n",
       "      <td>High School</td>\n",
       "      <td>12282.0</td>\n",
       "      <td>0</td>\n",
       "      <td>OWN</td>\n",
       "      <td>1000.0</td>\n",
       "      <td>EDUCATION</td>\n",
       "      <td>11.14</td>\n",
       "      <td>0.08</td>\n",
       "      <td>2.0</td>\n",
       "      <td>504</td>\n",
       "      <td>Yes</td>\n",
       "      <td>0</td>\n",
       "    </tr>\n",
       "    <tr>\n",
       "      <th>2</th>\n",
       "      <td>25.0</td>\n",
       "      <td>female</td>\n",
       "      <td>High School</td>\n",
       "      <td>12438.0</td>\n",
       "      <td>3</td>\n",
       "      <td>MORTGAGE</td>\n",
       "      <td>5500.0</td>\n",
       "      <td>MEDICAL</td>\n",
       "      <td>12.87</td>\n",
       "      <td>0.44</td>\n",
       "      <td>3.0</td>\n",
       "      <td>635</td>\n",
       "      <td>No</td>\n",
       "      <td>1</td>\n",
       "    </tr>\n",
       "    <tr>\n",
       "      <th>3</th>\n",
       "      <td>23.0</td>\n",
       "      <td>female</td>\n",
       "      <td>Bachelor</td>\n",
       "      <td>79753.0</td>\n",
       "      <td>0</td>\n",
       "      <td>RENT</td>\n",
       "      <td>35000.0</td>\n",
       "      <td>MEDICAL</td>\n",
       "      <td>15.23</td>\n",
       "      <td>0.44</td>\n",
       "      <td>2.0</td>\n",
       "      <td>675</td>\n",
       "      <td>No</td>\n",
       "      <td>1</td>\n",
       "    </tr>\n",
       "    <tr>\n",
       "      <th>4</th>\n",
       "      <td>24.0</td>\n",
       "      <td>male</td>\n",
       "      <td>Master</td>\n",
       "      <td>66135.0</td>\n",
       "      <td>1</td>\n",
       "      <td>RENT</td>\n",
       "      <td>35000.0</td>\n",
       "      <td>MEDICAL</td>\n",
       "      <td>14.27</td>\n",
       "      <td>0.53</td>\n",
       "      <td>4.0</td>\n",
       "      <td>586</td>\n",
       "      <td>No</td>\n",
       "      <td>1</td>\n",
       "    </tr>\n",
       "  </tbody>\n",
       "</table>\n",
       "</div>"
      ],
      "text/plain": [
       "   person_age person_gender person_education  person_income  person_emp_exp  \\\n",
       "0        22.0        female           Master        71948.0               0   \n",
       "1        21.0        female      High School        12282.0               0   \n",
       "2        25.0        female      High School        12438.0               3   \n",
       "3        23.0        female         Bachelor        79753.0               0   \n",
       "4        24.0          male           Master        66135.0               1   \n",
       "\n",
       "  person_home_ownership  loan_amnt loan_intent  loan_int_rate  \\\n",
       "0                  RENT    35000.0    PERSONAL          16.02   \n",
       "1                   OWN     1000.0   EDUCATION          11.14   \n",
       "2              MORTGAGE     5500.0     MEDICAL          12.87   \n",
       "3                  RENT    35000.0     MEDICAL          15.23   \n",
       "4                  RENT    35000.0     MEDICAL          14.27   \n",
       "\n",
       "   loan_percent_income  cb_person_cred_hist_length  credit_score  \\\n",
       "0                 0.49                         3.0           561   \n",
       "1                 0.08                         2.0           504   \n",
       "2                 0.44                         3.0           635   \n",
       "3                 0.44                         2.0           675   \n",
       "4                 0.53                         4.0           586   \n",
       "\n",
       "  previous_loan_defaults_on_file  loan_status  \n",
       "0                             No            1  \n",
       "1                            Yes            0  \n",
       "2                             No            1  \n",
       "3                             No            1  \n",
       "4                             No            1  "
      ]
     },
     "execution_count": 5,
     "metadata": {},
     "output_type": "execute_result"
    }
   ],
   "source": [
    "data.head()"
   ]
  },
  {
   "cell_type": "code",
   "execution_count": 6,
   "id": "e0c6439a",
   "metadata": {
    "scrolled": true
   },
   "outputs": [
    {
     "name": "stdout",
     "output_type": "stream",
     "text": [
      "<class 'pandas.core.frame.DataFrame'>\n",
      "RangeIndex: 45000 entries, 0 to 44999\n",
      "Data columns (total 14 columns):\n",
      " #   Column                          Non-Null Count  Dtype  \n",
      "---  ------                          --------------  -----  \n",
      " 0   person_age                      45000 non-null  float64\n",
      " 1   person_gender                   45000 non-null  object \n",
      " 2   person_education                45000 non-null  object \n",
      " 3   person_income                   45000 non-null  float64\n",
      " 4   person_emp_exp                  45000 non-null  int64  \n",
      " 5   person_home_ownership           45000 non-null  object \n",
      " 6   loan_amnt                       45000 non-null  float64\n",
      " 7   loan_intent                     45000 non-null  object \n",
      " 8   loan_int_rate                   45000 non-null  float64\n",
      " 9   loan_percent_income             45000 non-null  float64\n",
      " 10  cb_person_cred_hist_length      45000 non-null  float64\n",
      " 11  credit_score                    45000 non-null  int64  \n",
      " 12  previous_loan_defaults_on_file  45000 non-null  object \n",
      " 13  loan_status                     45000 non-null  int64  \n",
      "dtypes: float64(6), int64(3), object(5)\n",
      "memory usage: 4.8+ MB\n"
     ]
    }
   ],
   "source": [
    "data.info()"
   ]
  },
  {
   "cell_type": "code",
   "execution_count": 7,
   "id": "2337de9a",
   "metadata": {},
   "outputs": [
    {
     "data": {
      "text/html": [
       "<div>\n",
       "<style scoped>\n",
       "    .dataframe tbody tr th:only-of-type {\n",
       "        vertical-align: middle;\n",
       "    }\n",
       "\n",
       "    .dataframe tbody tr th {\n",
       "        vertical-align: top;\n",
       "    }\n",
       "\n",
       "    .dataframe thead th {\n",
       "        text-align: right;\n",
       "    }\n",
       "</style>\n",
       "<table border=\"1\" class=\"dataframe\">\n",
       "  <thead>\n",
       "    <tr style=\"text-align: right;\">\n",
       "      <th></th>\n",
       "      <th>count</th>\n",
       "      <th>mean</th>\n",
       "      <th>std</th>\n",
       "      <th>min</th>\n",
       "      <th>25%</th>\n",
       "      <th>50%</th>\n",
       "      <th>75%</th>\n",
       "      <th>max</th>\n",
       "    </tr>\n",
       "  </thead>\n",
       "  <tbody>\n",
       "    <tr>\n",
       "      <th>person_age</th>\n",
       "      <td>45000.0</td>\n",
       "      <td>27.764178</td>\n",
       "      <td>6.045108</td>\n",
       "      <td>20.00</td>\n",
       "      <td>24.00</td>\n",
       "      <td>26.00</td>\n",
       "      <td>30.00</td>\n",
       "      <td>144.00</td>\n",
       "    </tr>\n",
       "    <tr>\n",
       "      <th>person_income</th>\n",
       "      <td>45000.0</td>\n",
       "      <td>80319.053222</td>\n",
       "      <td>80422.498632</td>\n",
       "      <td>8000.00</td>\n",
       "      <td>47204.00</td>\n",
       "      <td>67048.00</td>\n",
       "      <td>95789.25</td>\n",
       "      <td>7200766.00</td>\n",
       "    </tr>\n",
       "    <tr>\n",
       "      <th>person_emp_exp</th>\n",
       "      <td>45000.0</td>\n",
       "      <td>5.410333</td>\n",
       "      <td>6.063532</td>\n",
       "      <td>0.00</td>\n",
       "      <td>1.00</td>\n",
       "      <td>4.00</td>\n",
       "      <td>8.00</td>\n",
       "      <td>125.00</td>\n",
       "    </tr>\n",
       "    <tr>\n",
       "      <th>loan_amnt</th>\n",
       "      <td>45000.0</td>\n",
       "      <td>9583.157556</td>\n",
       "      <td>6314.886691</td>\n",
       "      <td>500.00</td>\n",
       "      <td>5000.00</td>\n",
       "      <td>8000.00</td>\n",
       "      <td>12237.25</td>\n",
       "      <td>35000.00</td>\n",
       "    </tr>\n",
       "    <tr>\n",
       "      <th>loan_int_rate</th>\n",
       "      <td>45000.0</td>\n",
       "      <td>11.006606</td>\n",
       "      <td>2.978808</td>\n",
       "      <td>5.42</td>\n",
       "      <td>8.59</td>\n",
       "      <td>11.01</td>\n",
       "      <td>12.99</td>\n",
       "      <td>20.00</td>\n",
       "    </tr>\n",
       "    <tr>\n",
       "      <th>loan_percent_income</th>\n",
       "      <td>45000.0</td>\n",
       "      <td>0.139725</td>\n",
       "      <td>0.087212</td>\n",
       "      <td>0.00</td>\n",
       "      <td>0.07</td>\n",
       "      <td>0.12</td>\n",
       "      <td>0.19</td>\n",
       "      <td>0.66</td>\n",
       "    </tr>\n",
       "    <tr>\n",
       "      <th>cb_person_cred_hist_length</th>\n",
       "      <td>45000.0</td>\n",
       "      <td>5.867489</td>\n",
       "      <td>3.879702</td>\n",
       "      <td>2.00</td>\n",
       "      <td>3.00</td>\n",
       "      <td>4.00</td>\n",
       "      <td>8.00</td>\n",
       "      <td>30.00</td>\n",
       "    </tr>\n",
       "    <tr>\n",
       "      <th>credit_score</th>\n",
       "      <td>45000.0</td>\n",
       "      <td>632.608756</td>\n",
       "      <td>50.435865</td>\n",
       "      <td>390.00</td>\n",
       "      <td>601.00</td>\n",
       "      <td>640.00</td>\n",
       "      <td>670.00</td>\n",
       "      <td>850.00</td>\n",
       "    </tr>\n",
       "    <tr>\n",
       "      <th>loan_status</th>\n",
       "      <td>45000.0</td>\n",
       "      <td>0.222222</td>\n",
       "      <td>0.415744</td>\n",
       "      <td>0.00</td>\n",
       "      <td>0.00</td>\n",
       "      <td>0.00</td>\n",
       "      <td>0.00</td>\n",
       "      <td>1.00</td>\n",
       "    </tr>\n",
       "  </tbody>\n",
       "</table>\n",
       "</div>"
      ],
      "text/plain": [
       "                              count          mean           std      min  \\\n",
       "person_age                  45000.0     27.764178      6.045108    20.00   \n",
       "person_income               45000.0  80319.053222  80422.498632  8000.00   \n",
       "person_emp_exp              45000.0      5.410333      6.063532     0.00   \n",
       "loan_amnt                   45000.0   9583.157556   6314.886691   500.00   \n",
       "loan_int_rate               45000.0     11.006606      2.978808     5.42   \n",
       "loan_percent_income         45000.0      0.139725      0.087212     0.00   \n",
       "cb_person_cred_hist_length  45000.0      5.867489      3.879702     2.00   \n",
       "credit_score                45000.0    632.608756     50.435865   390.00   \n",
       "loan_status                 45000.0      0.222222      0.415744     0.00   \n",
       "\n",
       "                                 25%       50%       75%         max  \n",
       "person_age                     24.00     26.00     30.00      144.00  \n",
       "person_income               47204.00  67048.00  95789.25  7200766.00  \n",
       "person_emp_exp                  1.00      4.00      8.00      125.00  \n",
       "loan_amnt                    5000.00   8000.00  12237.25    35000.00  \n",
       "loan_int_rate                   8.59     11.01     12.99       20.00  \n",
       "loan_percent_income             0.07      0.12      0.19        0.66  \n",
       "cb_person_cred_hist_length      3.00      4.00      8.00       30.00  \n",
       "credit_score                  601.00    640.00    670.00      850.00  \n",
       "loan_status                     0.00      0.00      0.00        1.00  "
      ]
     },
     "execution_count": 7,
     "metadata": {},
     "output_type": "execute_result"
    }
   ],
   "source": [
    "data.describe().T"
   ]
  },
  {
   "cell_type": "code",
   "execution_count": 8,
   "id": "5b3079f2",
   "metadata": {},
   "outputs": [
    {
     "data": {
      "text/plain": [
       "Index(['person_age', 'person_gender', 'person_education', 'person_income',\n",
       "       'person_emp_exp', 'person_home_ownership', 'loan_amnt', 'loan_intent',\n",
       "       'loan_int_rate', 'loan_percent_income', 'cb_person_cred_hist_length',\n",
       "       'credit_score', 'previous_loan_defaults_on_file', 'loan_status'],\n",
       "      dtype='object')"
      ]
     },
     "execution_count": 8,
     "metadata": {},
     "output_type": "execute_result"
    }
   ],
   "source": [
    "data.columns"
   ]
  },
  {
   "cell_type": "code",
   "execution_count": 9,
   "id": "e34421ca",
   "metadata": {},
   "outputs": [],
   "source": [
    "#extract categorical columns\n",
    "cat_columns = ['person_gender', 'person_education','person_home_ownership','loan_intent','previous_loan_defaults_on_file']"
   ]
  },
  {
   "cell_type": "code",
   "execution_count": 10,
   "id": "ac55c3a8",
   "metadata": {},
   "outputs": [],
   "source": [
    "#numerical_columns\n",
    "num_columns = ['person_age', 'person_income','person_emp_exp', 'loan_amnt',\n",
    "       'loan_int_rate', 'loan_percent_income', 'cb_person_cred_hist_length','credit_score']"
   ]
  },
  {
   "cell_type": "code",
   "execution_count": 11,
   "id": "0c4e78b7",
   "metadata": {},
   "outputs": [],
   "source": [
    "#convert categorical columns\n",
    "for col in cat_columns:\n",
    "    data[col] = data[col].astype('category')"
   ]
  },
  {
   "cell_type": "markdown",
   "id": "1478a5a2",
   "metadata": {},
   "source": [
    "# DATA PRE-PROCESSING"
   ]
  },
  {
   "cell_type": "markdown",
   "id": "2c49e126",
   "metadata": {},
   "source": [
    "- handle missing values ifany\n",
    "- check for duplicates\n",
    "- reduce categories ifnot enough data\n",
    "- encode categorical data\n",
    "- Handle outliers"
   ]
  },
  {
   "cell_type": "code",
   "execution_count": 12,
   "id": "c5418c79",
   "metadata": {},
   "outputs": [],
   "source": [
    "data1 = data.copy()"
   ]
  },
  {
   "cell_type": "markdown",
   "id": "b1890c8a",
   "metadata": {},
   "source": [
    "**1. Missing Values Check**"
   ]
  },
  {
   "cell_type": "code",
   "execution_count": 13,
   "id": "4bc5148e",
   "metadata": {},
   "outputs": [
    {
     "data": {
      "text/plain": [
       "person_age                        0\n",
       "person_gender                     0\n",
       "person_education                  0\n",
       "person_income                     0\n",
       "person_emp_exp                    0\n",
       "person_home_ownership             0\n",
       "loan_amnt                         0\n",
       "loan_intent                       0\n",
       "loan_int_rate                     0\n",
       "loan_percent_income               0\n",
       "cb_person_cred_hist_length        0\n",
       "credit_score                      0\n",
       "previous_loan_defaults_on_file    0\n",
       "loan_status                       0\n",
       "dtype: int64"
      ]
     },
     "execution_count": 13,
     "metadata": {},
     "output_type": "execute_result"
    }
   ],
   "source": [
    "#check for missing values\n",
    "data.isnull().sum()"
   ]
  },
  {
   "cell_type": "markdown",
   "id": "09a5952a",
   "metadata": {},
   "source": [
    "**2. Duplicates check**"
   ]
  },
  {
   "cell_type": "code",
   "execution_count": 14,
   "id": "f1a5f25b",
   "metadata": {},
   "outputs": [
    {
     "name": "stdout",
     "output_type": "stream",
     "text": [
      "Empty DataFrame\n",
      "Columns: [person_age, person_gender, person_education, person_income, person_emp_exp, person_home_ownership, loan_amnt, loan_intent, loan_int_rate, loan_percent_income, cb_person_cred_hist_length, credit_score, previous_loan_defaults_on_file, loan_status]\n",
      "Index: []\n"
     ]
    }
   ],
   "source": [
    "duplicates = data[data.duplicated()]\n",
    "print(duplicates)"
   ]
  },
  {
   "cell_type": "markdown",
   "id": "e93a0235",
   "metadata": {},
   "source": [
    "**NUMERICAL DATA HANDLING - Outlier handling**"
   ]
  },
  {
   "cell_type": "code",
   "execution_count": 15,
   "id": "493d6b3f",
   "metadata": {},
   "outputs": [
    {
     "name": "stdout",
     "output_type": "stream",
     "text": [
      "person_age: 2188 outliers (4.86% of rows)\n",
      "person_income: 2218 outliers (4.93% of rows)\n",
      "person_emp_exp: 1724 outliers (3.83% of rows)\n",
      "loan_amnt: 2348 outliers (5.22% of rows)\n",
      "loan_int_rate: 124 outliers (0.28% of rows)\n",
      "loan_percent_income: 744 outliers (1.65% of rows)\n",
      "cb_person_cred_hist_length: 1366 outliers (3.04% of rows)\n",
      "credit_score: 467 outliers (1.04% of rows)\n"
     ]
    }
   ],
   "source": [
    "def detect_outliers_iqr(series, k=1.5):\n",
    "    \"\"\"\n",
    "    Return a boolean mask (True = outlier) for a pandas Series using the IQR method.\n",
    "    \"\"\"\n",
    "    q1 = series.quantile(0.25)\n",
    "    q3 = series.quantile(0.75)\n",
    "    iqr = q3 - q1\n",
    "    lower_bound = q1 - k * iqr\n",
    "    upper_bound = q3 + k * iqr\n",
    "    return (series < lower_bound) | (series > upper_bound)\n",
    "\n",
    "num_cols = [\"person_income\", \"loan_amnt\", \"loan_percent_income\", \"credit_score\", ...]\n",
    "outlier_masks = {}\n",
    "for col in num_columns:\n",
    "    mask = detect_outliers_iqr(data1[col].dropna(), k=1.5)\n",
    "    outlier_count = mask.sum()\n",
    "    pct = outlier_count / data1.shape[0]\n",
    "    print(f\"{col}: {outlier_count} outliers ({pct:.2%} of rows)\")\n",
    "    outlier_masks[col] = mask\n"
   ]
  },
  {
   "cell_type": "code",
   "execution_count": 16,
   "id": "a16c57a7",
   "metadata": {},
   "outputs": [],
   "source": [
    "#Variance Inflation Factor for correlation\n",
    "def calc_vif(x):\n",
    "    vif = pd.DataFrame()\n",
    "    vif['variables'] = x.columns\n",
    "    vif['vif'] = [variance_inflation_factor(x.values,i) for i in range(x.shape[1])]\n",
    "    return vif"
   ]
  },
  {
   "cell_type": "code",
   "execution_count": 17,
   "id": "308a5050",
   "metadata": {},
   "outputs": [
    {
     "data": {
      "text/html": [
       "<div>\n",
       "<style scoped>\n",
       "    .dataframe tbody tr th:only-of-type {\n",
       "        vertical-align: middle;\n",
       "    }\n",
       "\n",
       "    .dataframe tbody tr th {\n",
       "        vertical-align: top;\n",
       "    }\n",
       "\n",
       "    .dataframe thead th {\n",
       "        text-align: right;\n",
       "    }\n",
       "</style>\n",
       "<table border=\"1\" class=\"dataframe\">\n",
       "  <thead>\n",
       "    <tr style=\"text-align: right;\">\n",
       "      <th></th>\n",
       "      <th>variables</th>\n",
       "      <th>vif</th>\n",
       "    </tr>\n",
       "  </thead>\n",
       "  <tbody>\n",
       "    <tr>\n",
       "      <th>0</th>\n",
       "      <td>person_age</td>\n",
       "      <td>156.228180</td>\n",
       "    </tr>\n",
       "    <tr>\n",
       "      <th>1</th>\n",
       "      <td>person_income</td>\n",
       "      <td>2.871934</td>\n",
       "    </tr>\n",
       "    <tr>\n",
       "      <th>2</th>\n",
       "      <td>person_emp_exp</td>\n",
       "      <td>11.534092</td>\n",
       "    </tr>\n",
       "    <tr>\n",
       "      <th>3</th>\n",
       "      <td>loan_amnt</td>\n",
       "      <td>6.735278</td>\n",
       "    </tr>\n",
       "    <tr>\n",
       "      <th>4</th>\n",
       "      <td>loan_int_rate</td>\n",
       "      <td>14.489486</td>\n",
       "    </tr>\n",
       "    <tr>\n",
       "      <th>5</th>\n",
       "      <td>loan_percent_income</td>\n",
       "      <td>7.161562</td>\n",
       "    </tr>\n",
       "    <tr>\n",
       "      <th>6</th>\n",
       "      <td>cb_person_cred_hist_length</td>\n",
       "      <td>12.089290</td>\n",
       "    </tr>\n",
       "    <tr>\n",
       "      <th>7</th>\n",
       "      <td>credit_score</td>\n",
       "      <td>91.349883</td>\n",
       "    </tr>\n",
       "  </tbody>\n",
       "</table>\n",
       "</div>"
      ],
      "text/plain": [
       "                    variables         vif\n",
       "0                  person_age  156.228180\n",
       "1               person_income    2.871934\n",
       "2              person_emp_exp   11.534092\n",
       "3                   loan_amnt    6.735278\n",
       "4               loan_int_rate   14.489486\n",
       "5         loan_percent_income    7.161562\n",
       "6  cb_person_cred_hist_length   12.089290\n",
       "7                credit_score   91.349883"
      ]
     },
     "execution_count": 17,
     "metadata": {},
     "output_type": "execute_result"
    }
   ],
   "source": [
    "calc_vif(data1[num_columns])"
   ]
  },
  {
   "cell_type": "code",
   "execution_count": 18,
   "id": "2fb909f7",
   "metadata": {},
   "outputs": [],
   "source": [
    "#cap high age values\n",
    "data1['person_age'] = np.where(data1['person_age']>100,100,data1['person_age'])"
   ]
  },
  {
   "cell_type": "code",
   "execution_count": 19,
   "id": "f651da40",
   "metadata": {},
   "outputs": [],
   "source": [
    "#bin age to categorical\n",
    "data1[\"age_group\"] = pd.cut(data1[\"person_age\"], bins=[18,30,100], labels=[\"18–30\",\"31+\"])"
   ]
  },
  {
   "cell_type": "code",
   "execution_count": 20,
   "id": "4efe1363",
   "metadata": {},
   "outputs": [
    {
     "data": {
      "text/plain": [
       "age_group\n",
       "18–30    0.764422\n",
       "31+      0.235578\n",
       "Name: proportion, dtype: float64"
      ]
     },
     "execution_count": 20,
     "metadata": {},
     "output_type": "execute_result"
    }
   ],
   "source": [
    "data1[\"age_group\"].value_counts(normalize=True)"
   ]
  },
  {
   "cell_type": "code",
   "execution_count": 21,
   "id": "f6f37a11",
   "metadata": {},
   "outputs": [],
   "source": [
    "#drop age column and add age_group to categorical columns list\n",
    "data1 = data1.drop('person_age',axis =1)\n",
    "cat_columns = cat_columns + ['age_group']\n",
    "num_columns.remove('person_age')"
   ]
  },
  {
   "cell_type": "code",
   "execution_count": 22,
   "id": "f7ea0470",
   "metadata": {},
   "outputs": [
    {
     "data": {
      "text/plain": [
       "count    45000.000000\n",
       "mean         5.410333\n",
       "std          6.063532\n",
       "min          0.000000\n",
       "25%          1.000000\n",
       "50%          4.000000\n",
       "75%          8.000000\n",
       "max        125.000000\n",
       "Name: person_emp_exp, dtype: float64"
      ]
     },
     "execution_count": 22,
     "metadata": {},
     "output_type": "execute_result"
    }
   ],
   "source": [
    "#check person experience\n",
    "data1['person_emp_exp'].describe()"
   ]
  },
  {
   "cell_type": "code",
   "execution_count": 23,
   "id": "d4b6bd96",
   "metadata": {},
   "outputs": [],
   "source": [
    "# Calculate the median of the 'person_emp_exp' column\n",
    "median_emp_exp = data1['person_emp_exp'].median()\n",
    "\n",
    "# Replace values in 'person_emp_exp' greater than 55 with the median value\n",
    "data1['person_emp_exp'] = data1['person_emp_exp'].apply(lambda x: median_emp_exp if x > 55 else x)"
   ]
  },
  {
   "cell_type": "markdown",
   "id": "2b1b5ccb",
   "metadata": {},
   "source": [
    "- It's uncommon for individuals to have over 55 years of work experience, especially considering most people start their careers between 18-25 years old.\n",
    "- Values above 55 years are likely data entry errors or anomalies that do not represent the typical applicant profile."
   ]
  },
  {
   "cell_type": "code",
   "execution_count": 24,
   "id": "6e4164cb",
   "metadata": {},
   "outputs": [
    {
     "data": {
      "image/png": "[encoded data removed]",
      "text/plain": [
       "<Figure size 1000x300 with 2 Axes>"
      ]
     },
     "metadata": {},
     "output_type": "display_data"
    }
   ],
   "source": [
    "# Plot the distribution of 'person_income' before the log transformation\n",
    "plt.figure(figsize=(10, 3))\n",
    "plt.subplot(1, 2, 1)\n",
    "sns.histplot(data1['person_income'], kde=True, bins=30)\n",
    "plt.title('Distribution of person_income (Before Log)')\n",
    "plt.xlabel('person_income')\n",
    "plt.ylabel('Frequency')\n",
    "\n",
    "# Apply the log transformation\n",
    "data1['person_income_log'] = np.log(data1['person_income'] + 1)\n",
    "\n",
    "# Plot the distribution of 'person_income' after the log transformation\n",
    "plt.subplot(1, 2, 2)\n",
    "sns.histplot(data1['person_income_log'], kde=True, bins=30)\n",
    "plt.title('Distribution of person_income (After Log)')\n",
    "plt.xlabel('person_income_log')\n",
    "plt.ylabel('Frequency')\n",
    "\n",
    "plt.tight_layout()\n",
    "plt.show()"
   ]
  },
  {
   "cell_type": "code",
   "execution_count": 25,
   "id": "32bd8682",
   "metadata": {},
   "outputs": [
    {
     "data": {
      "text/html": [
       "<div>\n",
       "<style scoped>\n",
       "    .dataframe tbody tr th:only-of-type {\n",
       "        vertical-align: middle;\n",
       "    }\n",
       "\n",
       "    .dataframe tbody tr th {\n",
       "        vertical-align: top;\n",
       "    }\n",
       "\n",
       "    .dataframe thead th {\n",
       "        text-align: right;\n",
       "    }\n",
       "</style>\n",
       "<table border=\"1\" class=\"dataframe\">\n",
       "  <thead>\n",
       "    <tr style=\"text-align: right;\">\n",
       "      <th></th>\n",
       "      <th>person_gender</th>\n",
       "      <th>person_education</th>\n",
       "      <th>person_income</th>\n",
       "      <th>person_emp_exp</th>\n",
       "      <th>person_home_ownership</th>\n",
       "      <th>loan_amnt</th>\n",
       "      <th>loan_intent</th>\n",
       "      <th>loan_int_rate</th>\n",
       "      <th>loan_percent_income</th>\n",
       "      <th>cb_person_cred_hist_length</th>\n",
       "      <th>credit_score</th>\n",
       "      <th>previous_loan_defaults_on_file</th>\n",
       "      <th>loan_status</th>\n",
       "      <th>age_group</th>\n",
       "      <th>person_income_log</th>\n",
       "    </tr>\n",
       "  </thead>\n",
       "  <tbody>\n",
       "    <tr>\n",
       "      <th>0</th>\n",
       "      <td>female</td>\n",
       "      <td>Master</td>\n",
       "      <td>71948.0</td>\n",
       "      <td>0.0</td>\n",
       "      <td>RENT</td>\n",
       "      <td>35000.0</td>\n",
       "      <td>PERSONAL</td>\n",
       "      <td>16.02</td>\n",
       "      <td>0.49</td>\n",
       "      <td>3.0</td>\n",
       "      <td>561</td>\n",
       "      <td>No</td>\n",
       "      <td>1</td>\n",
       "      <td>18–30</td>\n",
       "      <td>11.183713</td>\n",
       "    </tr>\n",
       "    <tr>\n",
       "      <th>1</th>\n",
       "      <td>female</td>\n",
       "      <td>High School</td>\n",
       "      <td>12282.0</td>\n",
       "      <td>0.0</td>\n",
       "      <td>OWN</td>\n",
       "      <td>1000.0</td>\n",
       "      <td>EDUCATION</td>\n",
       "      <td>11.14</td>\n",
       "      <td>0.08</td>\n",
       "      <td>2.0</td>\n",
       "      <td>504</td>\n",
       "      <td>Yes</td>\n",
       "      <td>0</td>\n",
       "      <td>18–30</td>\n",
       "      <td>9.415971</td>\n",
       "    </tr>\n",
       "    <tr>\n",
       "      <th>2</th>\n",
       "      <td>female</td>\n",
       "      <td>High School</td>\n",
       "      <td>12438.0</td>\n",
       "      <td>3.0</td>\n",
       "      <td>MORTGAGE</td>\n",
       "      <td>5500.0</td>\n",
       "      <td>MEDICAL</td>\n",
       "      <td>12.87</td>\n",
       "      <td>0.44</td>\n",
       "      <td>3.0</td>\n",
       "      <td>635</td>\n",
       "      <td>No</td>\n",
       "      <td>1</td>\n",
       "      <td>18–30</td>\n",
       "      <td>9.428592</td>\n",
       "    </tr>\n",
       "    <tr>\n",
       "      <th>3</th>\n",
       "      <td>female</td>\n",
       "      <td>Bachelor</td>\n",
       "      <td>79753.0</td>\n",
       "      <td>0.0</td>\n",
       "      <td>RENT</td>\n",
       "      <td>35000.0</td>\n",
       "      <td>MEDICAL</td>\n",
       "      <td>15.23</td>\n",
       "      <td>0.44</td>\n",
       "      <td>2.0</td>\n",
       "      <td>675</td>\n",
       "      <td>No</td>\n",
       "      <td>1</td>\n",
       "      <td>18–30</td>\n",
       "      <td>11.286702</td>\n",
       "    </tr>\n",
       "    <tr>\n",
       "      <th>4</th>\n",
       "      <td>male</td>\n",
       "      <td>Master</td>\n",
       "      <td>66135.0</td>\n",
       "      <td>1.0</td>\n",
       "      <td>RENT</td>\n",
       "      <td>35000.0</td>\n",
       "      <td>MEDICAL</td>\n",
       "      <td>14.27</td>\n",
       "      <td>0.53</td>\n",
       "      <td>4.0</td>\n",
       "      <td>586</td>\n",
       "      <td>No</td>\n",
       "      <td>1</td>\n",
       "      <td>18–30</td>\n",
       "      <td>11.099469</td>\n",
       "    </tr>\n",
       "  </tbody>\n",
       "</table>\n",
       "</div>"
      ],
      "text/plain": [
       "  person_gender person_education  person_income  person_emp_exp  \\\n",
       "0        female           Master        71948.0             0.0   \n",
       "1        female      High School        12282.0             0.0   \n",
       "2        female      High School        12438.0             3.0   \n",
       "3        female         Bachelor        79753.0             0.0   \n",
       "4          male           Master        66135.0             1.0   \n",
       "\n",
       "  person_home_ownership  loan_amnt loan_intent  loan_int_rate  \\\n",
       "0                  RENT    35000.0    PERSONAL          16.02   \n",
       "1                   OWN     1000.0   EDUCATION          11.14   \n",
       "2              MORTGAGE     5500.0     MEDICAL          12.87   \n",
       "3                  RENT    35000.0     MEDICAL          15.23   \n",
       "4                  RENT    35000.0     MEDICAL          14.27   \n",
       "\n",
       "   loan_percent_income  cb_person_cred_hist_length  credit_score  \\\n",
       "0                 0.49                         3.0           561   \n",
       "1                 0.08                         2.0           504   \n",
       "2                 0.44                         3.0           635   \n",
       "3                 0.44                         2.0           675   \n",
       "4                 0.53                         4.0           586   \n",
       "\n",
       "  previous_loan_defaults_on_file  loan_status age_group  person_income_log  \n",
       "0                             No            1     18–30          11.183713  \n",
       "1                            Yes            0     18–30           9.415971  \n",
       "2                             No            1     18–30           9.428592  \n",
       "3                             No            1     18–30          11.286702  \n",
       "4                             No            1     18–30          11.099469  "
      ]
     },
     "execution_count": 25,
     "metadata": {},
     "output_type": "execute_result"
    }
   ],
   "source": [
    "data1.head()"
   ]
  },
  {
   "cell_type": "code",
   "execution_count": 26,
   "id": "130ec290",
   "metadata": {},
   "outputs": [
    {
     "data": {
      "text/html": [
       "<div>\n",
       "<style scoped>\n",
       "    .dataframe tbody tr th:only-of-type {\n",
       "        vertical-align: middle;\n",
       "    }\n",
       "\n",
       "    .dataframe tbody tr th {\n",
       "        vertical-align: top;\n",
       "    }\n",
       "\n",
       "    .dataframe thead th {\n",
       "        text-align: right;\n",
       "    }\n",
       "</style>\n",
       "<table border=\"1\" class=\"dataframe\">\n",
       "  <thead>\n",
       "    <tr style=\"text-align: right;\">\n",
       "      <th></th>\n",
       "      <th>variables</th>\n",
       "      <th>vif</th>\n",
       "    </tr>\n",
       "  </thead>\n",
       "  <tbody>\n",
       "    <tr>\n",
       "      <th>0</th>\n",
       "      <td>person_income</td>\n",
       "      <td>2.785151</td>\n",
       "    </tr>\n",
       "    <tr>\n",
       "      <th>1</th>\n",
       "      <td>person_emp_exp</td>\n",
       "      <td>6.135252</td>\n",
       "    </tr>\n",
       "    <tr>\n",
       "      <th>2</th>\n",
       "      <td>loan_amnt</td>\n",
       "      <td>6.741964</td>\n",
       "    </tr>\n",
       "    <tr>\n",
       "      <th>3</th>\n",
       "      <td>loan_int_rate</td>\n",
       "      <td>14.062497</td>\n",
       "    </tr>\n",
       "    <tr>\n",
       "      <th>4</th>\n",
       "      <td>loan_percent_income</td>\n",
       "      <td>7.151129</td>\n",
       "    </tr>\n",
       "    <tr>\n",
       "      <th>5</th>\n",
       "      <td>cb_person_cred_hist_length</td>\n",
       "      <td>11.037145</td>\n",
       "    </tr>\n",
       "    <tr>\n",
       "      <th>6</th>\n",
       "      <td>credit_score</td>\n",
       "      <td>18.437860</td>\n",
       "    </tr>\n",
       "  </tbody>\n",
       "</table>\n",
       "</div>"
      ],
      "text/plain": [
       "                    variables        vif\n",
       "0               person_income   2.785151\n",
       "1              person_emp_exp   6.135252\n",
       "2                   loan_amnt   6.741964\n",
       "3               loan_int_rate  14.062497\n",
       "4         loan_percent_income   7.151129\n",
       "5  cb_person_cred_hist_length  11.037145\n",
       "6                credit_score  18.437860"
      ]
     },
     "execution_count": 26,
     "metadata": {},
     "output_type": "execute_result"
    }
   ],
   "source": [
    "calc_vif(data1[num_columns])"
   ]
  },
  {
   "cell_type": "code",
   "execution_count": 27,
   "id": "b67d6c07",
   "metadata": {},
   "outputs": [
    {
     "data": {
      "text/plain": [
       "<Axes: >"
      ]
     },
     "execution_count": 27,
     "metadata": {},
     "output_type": "execute_result"
    },
    {
     "data": {
      "image/png": "[encoded data removed]",
      "text/plain": [
       "<Figure size 640x480 with 2 Axes>"
      ]
     },
     "metadata": {},
     "output_type": "display_data"
    }
   ],
   "source": [
    "corr_df = data1[num_columns + [\"loan_status\"]]\n",
    "sns.heatmap(corr_df.corr(),annot=True)"
   ]
  },
  {
   "cell_type": "markdown",
   "id": "01c25a8a",
   "metadata": {},
   "source": [
    "**3. Categorical data handling**"
   ]
  },
  {
   "cell_type": "code",
   "execution_count": 28,
   "id": "7b8eb68a",
   "metadata": {},
   "outputs": [
    {
     "data": {
      "text/plain": [
       "person_gender                     2\n",
       "person_education                  5\n",
       "person_home_ownership             4\n",
       "loan_intent                       6\n",
       "previous_loan_defaults_on_file    2\n",
       "age_group                         2\n",
       "dtype: int64"
      ]
     },
     "execution_count": 28,
     "metadata": {},
     "output_type": "execute_result"
    }
   ],
   "source": [
    "#check for high cardinality\n",
    "data1[cat_columns].nunique()"
   ]
  },
  {
   "cell_type": "code",
   "execution_count": 29,
   "id": "63444959",
   "metadata": {},
   "outputs": [
    {
     "name": "stdout",
     "output_type": "stream",
     "text": [
      "person_education\n",
      "Bachelor       0.297756\n",
      "Associate      0.267289\n",
      "High School    0.266044\n",
      "Master         0.155111\n",
      "Doctorate      0.013800\n",
      "Name: proportion, dtype: float64\n"
     ]
    }
   ],
   "source": [
    "print(data1['person_education'].value_counts(normalize=True))"
   ]
  },
  {
   "cell_type": "code",
   "execution_count": 30,
   "id": "4a4637b8",
   "metadata": {},
   "outputs": [
    {
     "name": "stdout",
     "output_type": "stream",
     "text": [
      "person_home_ownership\n",
      "RENT        0.520956\n",
      "MORTGAGE    0.410867\n",
      "OWN         0.065578\n",
      "OTHER       0.002600\n",
      "Name: proportion, dtype: float64\n"
     ]
    }
   ],
   "source": [
    "print(data1['person_home_ownership'].value_counts(normalize=True))"
   ]
  },
  {
   "cell_type": "code",
   "execution_count": 31,
   "id": "122b19c3",
   "metadata": {},
   "outputs": [
    {
     "name": "stdout",
     "output_type": "stream",
     "text": [
      "loan_intent\n",
      "EDUCATION            0.203400\n",
      "MEDICAL              0.189956\n",
      "VENTURE              0.173756\n",
      "PERSONAL             0.167822\n",
      "DEBTCONSOLIDATION    0.158778\n",
      "HOMEIMPROVEMENT      0.106289\n",
      "Name: proportion, dtype: float64\n"
     ]
    }
   ],
   "source": [
    "print(data1['loan_intent'].value_counts(normalize=True))"
   ]
  },
  {
   "cell_type": "code",
   "execution_count": 32,
   "id": "50b72269",
   "metadata": {},
   "outputs": [],
   "source": [
    "#Combine masters and doctorate to higher education\n",
    "data1['person_education'] = np.where(data1['person_education'].isin(['Master','Doctorate']),'Higher education',data1['person_education'])"
   ]
  },
  {
   "cell_type": "code",
   "execution_count": 33,
   "id": "e8a01dc0",
   "metadata": {},
   "outputs": [
    {
     "name": "stdout",
     "output_type": "stream",
     "text": [
      "['female', 'male']\n",
      "Categories (2, object): ['female', 'male']\n"
     ]
    }
   ],
   "source": [
    "#check gender columns\n",
    "print(data['person_gender'].unique())"
   ]
  },
  {
   "cell_type": "code",
   "execution_count": 34,
   "id": "9205f4cc",
   "metadata": {},
   "outputs": [
    {
     "data": {
      "text/plain": [
       "Index(['person_gender', 'person_education', 'person_income', 'person_emp_exp',\n",
       "       'person_home_ownership', 'loan_amnt', 'loan_intent', 'loan_int_rate',\n",
       "       'loan_percent_income', 'cb_person_cred_hist_length', 'credit_score',\n",
       "       'previous_loan_defaults_on_file', 'loan_status', 'age_group',\n",
       "       'person_income_log'],\n",
       "      dtype='object')"
      ]
     },
     "execution_count": 34,
     "metadata": {},
     "output_type": "execute_result"
    }
   ],
   "source": [
    "data1.columns"
   ]
  },
  {
   "cell_type": "code",
   "execution_count": 35,
   "id": "4948bb3b",
   "metadata": {},
   "outputs": [],
   "source": [
    "#use label encoding for columns with 2 categories and dummy for those with more\n",
    "\n",
    "#one  hot encode columns with more than 2 categories\n",
    "data1 = pd.get_dummies(data1, columns=['person_education','person_home_ownership','loan_intent'], drop_first=False)\n",
    "\n",
    "# # Convert all the columns with prefix to 0/1 instead of False/True\n",
    "dumm_cols = [col for col in data1.columns if col.startswith(('person_education','person_home_ownership','loan_intent'))]\n",
    "data1[dumm_cols] = data1[dumm_cols].astype(int)\n",
    "\n",
    "le = LabelEncoder()\n",
    "for col in [col for col in cat_columns if col not in ['person_education','person_home_ownership','loan_intent']]:\n",
    "    data1[col] = le.fit_transform(data1[col])\n",
    "    "
   ]
  },
  {
   "cell_type": "code",
   "execution_count": 36,
   "id": "fa633444",
   "metadata": {},
   "outputs": [
    {
     "data": {
      "text/html": [
       "<div>\n",
       "<style scoped>\n",
       "    .dataframe tbody tr th:only-of-type {\n",
       "        vertical-align: middle;\n",
       "    }\n",
       "\n",
       "    .dataframe tbody tr th {\n",
       "        vertical-align: top;\n",
       "    }\n",
       "\n",
       "    .dataframe thead th {\n",
       "        text-align: right;\n",
       "    }\n",
       "</style>\n",
       "<table border=\"1\" class=\"dataframe\">\n",
       "  <thead>\n",
       "    <tr style=\"text-align: right;\">\n",
       "      <th></th>\n",
       "      <th>person_gender</th>\n",
       "      <th>person_income</th>\n",
       "      <th>person_emp_exp</th>\n",
       "      <th>loan_amnt</th>\n",
       "      <th>loan_int_rate</th>\n",
       "      <th>loan_percent_income</th>\n",
       "      <th>cb_person_cred_hist_length</th>\n",
       "      <th>credit_score</th>\n",
       "      <th>previous_loan_defaults_on_file</th>\n",
       "      <th>loan_status</th>\n",
       "      <th>...</th>\n",
       "      <th>person_home_ownership_MORTGAGE</th>\n",
       "      <th>person_home_ownership_OTHER</th>\n",
       "      <th>person_home_ownership_OWN</th>\n",
       "      <th>person_home_ownership_RENT</th>\n",
       "      <th>loan_intent_DEBTCONSOLIDATION</th>\n",
       "      <th>loan_intent_EDUCATION</th>\n",
       "      <th>loan_intent_HOMEIMPROVEMENT</th>\n",
       "      <th>loan_intent_MEDICAL</th>\n",
       "      <th>loan_intent_PERSONAL</th>\n",
       "      <th>loan_intent_VENTURE</th>\n",
       "    </tr>\n",
       "  </thead>\n",
       "  <tbody>\n",
       "    <tr>\n",
       "      <th>0</th>\n",
       "      <td>0</td>\n",
       "      <td>71948.0</td>\n",
       "      <td>0.0</td>\n",
       "      <td>35000.0</td>\n",
       "      <td>16.02</td>\n",
       "      <td>0.49</td>\n",
       "      <td>3.0</td>\n",
       "      <td>561</td>\n",
       "      <td>0</td>\n",
       "      <td>1</td>\n",
       "      <td>...</td>\n",
       "      <td>0</td>\n",
       "      <td>0</td>\n",
       "      <td>0</td>\n",
       "      <td>1</td>\n",
       "      <td>0</td>\n",
       "      <td>0</td>\n",
       "      <td>0</td>\n",
       "      <td>0</td>\n",
       "      <td>1</td>\n",
       "      <td>0</td>\n",
       "    </tr>\n",
       "    <tr>\n",
       "      <th>1</th>\n",
       "      <td>0</td>\n",
       "      <td>12282.0</td>\n",
       "      <td>0.0</td>\n",
       "      <td>1000.0</td>\n",
       "      <td>11.14</td>\n",
       "      <td>0.08</td>\n",
       "      <td>2.0</td>\n",
       "      <td>504</td>\n",
       "      <td>1</td>\n",
       "      <td>0</td>\n",
       "      <td>...</td>\n",
       "      <td>0</td>\n",
       "      <td>0</td>\n",
       "      <td>1</td>\n",
       "      <td>0</td>\n",
       "      <td>0</td>\n",
       "      <td>1</td>\n",
       "      <td>0</td>\n",
       "      <td>0</td>\n",
       "      <td>0</td>\n",
       "      <td>0</td>\n",
       "    </tr>\n",
       "    <tr>\n",
       "      <th>2</th>\n",
       "      <td>0</td>\n",
       "      <td>12438.0</td>\n",
       "      <td>3.0</td>\n",
       "      <td>5500.0</td>\n",
       "      <td>12.87</td>\n",
       "      <td>0.44</td>\n",
       "      <td>3.0</td>\n",
       "      <td>635</td>\n",
       "      <td>0</td>\n",
       "      <td>1</td>\n",
       "      <td>...</td>\n",
       "      <td>1</td>\n",
       "      <td>0</td>\n",
       "      <td>0</td>\n",
       "      <td>0</td>\n",
       "      <td>0</td>\n",
       "      <td>0</td>\n",
       "      <td>0</td>\n",
       "      <td>1</td>\n",
       "      <td>0</td>\n",
       "      <td>0</td>\n",
       "    </tr>\n",
       "    <tr>\n",
       "      <th>3</th>\n",
       "      <td>0</td>\n",
       "      <td>79753.0</td>\n",
       "      <td>0.0</td>\n",
       "      <td>35000.0</td>\n",
       "      <td>15.23</td>\n",
       "      <td>0.44</td>\n",
       "      <td>2.0</td>\n",
       "      <td>675</td>\n",
       "      <td>0</td>\n",
       "      <td>1</td>\n",
       "      <td>...</td>\n",
       "      <td>0</td>\n",
       "      <td>0</td>\n",
       "      <td>0</td>\n",
       "      <td>1</td>\n",
       "      <td>0</td>\n",
       "      <td>0</td>\n",
       "      <td>0</td>\n",
       "      <td>1</td>\n",
       "      <td>0</td>\n",
       "      <td>0</td>\n",
       "    </tr>\n",
       "    <tr>\n",
       "      <th>4</th>\n",
       "      <td>1</td>\n",
       "      <td>66135.0</td>\n",
       "      <td>1.0</td>\n",
       "      <td>35000.0</td>\n",
       "      <td>14.27</td>\n",
       "      <td>0.53</td>\n",
       "      <td>4.0</td>\n",
       "      <td>586</td>\n",
       "      <td>0</td>\n",
       "      <td>1</td>\n",
       "      <td>...</td>\n",
       "      <td>0</td>\n",
       "      <td>0</td>\n",
       "      <td>0</td>\n",
       "      <td>1</td>\n",
       "      <td>0</td>\n",
       "      <td>0</td>\n",
       "      <td>0</td>\n",
       "      <td>1</td>\n",
       "      <td>0</td>\n",
       "      <td>0</td>\n",
       "    </tr>\n",
       "  </tbody>\n",
       "</table>\n",
       "<p>5 rows × 26 columns</p>\n",
       "</div>"
      ],
      "text/plain": [
       "   person_gender  person_income  person_emp_exp  loan_amnt  loan_int_rate  \\\n",
       "0              0        71948.0             0.0    35000.0          16.02   \n",
       "1              0        12282.0             0.0     1000.0          11.14   \n",
       "2              0        12438.0             3.0     5500.0          12.87   \n",
       "3              0        79753.0             0.0    35000.0          15.23   \n",
       "4              1        66135.0             1.0    35000.0          14.27   \n",
       "\n",
       "   loan_percent_income  cb_person_cred_hist_length  credit_score  \\\n",
       "0                 0.49                         3.0           561   \n",
       "1                 0.08                         2.0           504   \n",
       "2                 0.44                         3.0           635   \n",
       "3                 0.44                         2.0           675   \n",
       "4                 0.53                         4.0           586   \n",
       "\n",
       "   previous_loan_defaults_on_file  loan_status  ...  \\\n",
       "0                               0            1  ...   \n",
       "1                               1            0  ...   \n",
       "2                               0            1  ...   \n",
       "3                               0            1  ...   \n",
       "4                               0            1  ...   \n",
       "\n",
       "   person_home_ownership_MORTGAGE  person_home_ownership_OTHER  \\\n",
       "0                               0                            0   \n",
       "1                               0                            0   \n",
       "2                               1                            0   \n",
       "3                               0                            0   \n",
       "4                               0                            0   \n",
       "\n",
       "   person_home_ownership_OWN  person_home_ownership_RENT  \\\n",
       "0                          0                           1   \n",
       "1                          1                           0   \n",
       "2                          0                           0   \n",
       "3                          0                           1   \n",
       "4                          0                           1   \n",
       "\n",
       "   loan_intent_DEBTCONSOLIDATION  loan_intent_EDUCATION  \\\n",
       "0                              0                      0   \n",
       "1                              0                      1   \n",
       "2                              0                      0   \n",
       "3                              0                      0   \n",
       "4                              0                      0   \n",
       "\n",
       "   loan_intent_HOMEIMPROVEMENT  loan_intent_MEDICAL  loan_intent_PERSONAL  \\\n",
       "0                            0                    0                     1   \n",
       "1                            0                    0                     0   \n",
       "2                            0                    1                     0   \n",
       "3                            0                    1                     0   \n",
       "4                            0                    1                     0   \n",
       "\n",
       "   loan_intent_VENTURE  \n",
       "0                    0  \n",
       "1                    0  \n",
       "2                    0  \n",
       "3                    0  \n",
       "4                    0  \n",
       "\n",
       "[5 rows x 26 columns]"
      ]
     },
     "execution_count": 36,
     "metadata": {},
     "output_type": "execute_result"
    }
   ],
   "source": [
    "data1.head()"
   ]
  },
  {
   "cell_type": "markdown",
   "id": "7e52c388",
   "metadata": {},
   "source": [
    "## TRAIN TEST SPLIT"
   ]
  },
  {
   "cell_type": "code",
   "execution_count": 37,
   "id": "270bdf7f",
   "metadata": {},
   "outputs": [
    {
     "data": {
      "text/html": [
       "<div>\n",
       "<style scoped>\n",
       "    .dataframe tbody tr th:only-of-type {\n",
       "        vertical-align: middle;\n",
       "    }\n",
       "\n",
       "    .dataframe tbody tr th {\n",
       "        vertical-align: top;\n",
       "    }\n",
       "\n",
       "    .dataframe thead th {\n",
       "        text-align: right;\n",
       "    }\n",
       "</style>\n",
       "<table border=\"1\" class=\"dataframe\">\n",
       "  <thead>\n",
       "    <tr style=\"text-align: right;\">\n",
       "      <th></th>\n",
       "      <th>person_gender</th>\n",
       "      <th>person_income</th>\n",
       "      <th>person_emp_exp</th>\n",
       "      <th>loan_amnt</th>\n",
       "      <th>loan_int_rate</th>\n",
       "      <th>loan_percent_income</th>\n",
       "      <th>cb_person_cred_hist_length</th>\n",
       "      <th>credit_score</th>\n",
       "      <th>previous_loan_defaults_on_file</th>\n",
       "      <th>loan_status</th>\n",
       "      <th>...</th>\n",
       "      <th>person_home_ownership_MORTGAGE</th>\n",
       "      <th>person_home_ownership_OTHER</th>\n",
       "      <th>person_home_ownership_OWN</th>\n",
       "      <th>person_home_ownership_RENT</th>\n",
       "      <th>loan_intent_DEBTCONSOLIDATION</th>\n",
       "      <th>loan_intent_EDUCATION</th>\n",
       "      <th>loan_intent_HOMEIMPROVEMENT</th>\n",
       "      <th>loan_intent_MEDICAL</th>\n",
       "      <th>loan_intent_PERSONAL</th>\n",
       "      <th>loan_intent_VENTURE</th>\n",
       "    </tr>\n",
       "  </thead>\n",
       "  <tbody>\n",
       "    <tr>\n",
       "      <th>0</th>\n",
       "      <td>0</td>\n",
       "      <td>71948.0</td>\n",
       "      <td>0.0</td>\n",
       "      <td>35000.0</td>\n",
       "      <td>16.02</td>\n",
       "      <td>0.49</td>\n",
       "      <td>3.0</td>\n",
       "      <td>561</td>\n",
       "      <td>0</td>\n",
       "      <td>1</td>\n",
       "      <td>...</td>\n",
       "      <td>0</td>\n",
       "      <td>0</td>\n",
       "      <td>0</td>\n",
       "      <td>1</td>\n",
       "      <td>0</td>\n",
       "      <td>0</td>\n",
       "      <td>0</td>\n",
       "      <td>0</td>\n",
       "      <td>1</td>\n",
       "      <td>0</td>\n",
       "    </tr>\n",
       "    <tr>\n",
       "      <th>1</th>\n",
       "      <td>0</td>\n",
       "      <td>12282.0</td>\n",
       "      <td>0.0</td>\n",
       "      <td>1000.0</td>\n",
       "      <td>11.14</td>\n",
       "      <td>0.08</td>\n",
       "      <td>2.0</td>\n",
       "      <td>504</td>\n",
       "      <td>1</td>\n",
       "      <td>0</td>\n",
       "      <td>...</td>\n",
       "      <td>0</td>\n",
       "      <td>0</td>\n",
       "      <td>1</td>\n",
       "      <td>0</td>\n",
       "      <td>0</td>\n",
       "      <td>1</td>\n",
       "      <td>0</td>\n",
       "      <td>0</td>\n",
       "      <td>0</td>\n",
       "      <td>0</td>\n",
       "    </tr>\n",
       "    <tr>\n",
       "      <th>2</th>\n",
       "      <td>0</td>\n",
       "      <td>12438.0</td>\n",
       "      <td>3.0</td>\n",
       "      <td>5500.0</td>\n",
       "      <td>12.87</td>\n",
       "      <td>0.44</td>\n",
       "      <td>3.0</td>\n",
       "      <td>635</td>\n",
       "      <td>0</td>\n",
       "      <td>1</td>\n",
       "      <td>...</td>\n",
       "      <td>1</td>\n",
       "      <td>0</td>\n",
       "      <td>0</td>\n",
       "      <td>0</td>\n",
       "      <td>0</td>\n",
       "      <td>0</td>\n",
       "      <td>0</td>\n",
       "      <td>1</td>\n",
       "      <td>0</td>\n",
       "      <td>0</td>\n",
       "    </tr>\n",
       "  </tbody>\n",
       "</table>\n",
       "<p>3 rows × 26 columns</p>\n",
       "</div>"
      ],
      "text/plain": [
       "   person_gender  person_income  person_emp_exp  loan_amnt  loan_int_rate  \\\n",
       "0              0        71948.0             0.0    35000.0          16.02   \n",
       "1              0        12282.0             0.0     1000.0          11.14   \n",
       "2              0        12438.0             3.0     5500.0          12.87   \n",
       "\n",
       "   loan_percent_income  cb_person_cred_hist_length  credit_score  \\\n",
       "0                 0.49                         3.0           561   \n",
       "1                 0.08                         2.0           504   \n",
       "2                 0.44                         3.0           635   \n",
       "\n",
       "   previous_loan_defaults_on_file  loan_status  ...  \\\n",
       "0                               0            1  ...   \n",
       "1                               1            0  ...   \n",
       "2                               0            1  ...   \n",
       "\n",
       "   person_home_ownership_MORTGAGE  person_home_ownership_OTHER  \\\n",
       "0                               0                            0   \n",
       "1                               0                            0   \n",
       "2                               1                            0   \n",
       "\n",
       "   person_home_ownership_OWN  person_home_ownership_RENT  \\\n",
       "0                          0                           1   \n",
       "1                          1                           0   \n",
       "2                          0                           0   \n",
       "\n",
       "   loan_intent_DEBTCONSOLIDATION  loan_intent_EDUCATION  \\\n",
       "0                              0                      0   \n",
       "1                              0                      1   \n",
       "2                              0                      0   \n",
       "\n",
       "   loan_intent_HOMEIMPROVEMENT  loan_intent_MEDICAL  loan_intent_PERSONAL  \\\n",
       "0                            0                    0                     1   \n",
       "1                            0                    0                     0   \n",
       "2                            0                    1                     0   \n",
       "\n",
       "   loan_intent_VENTURE  \n",
       "0                    0  \n",
       "1                    0  \n",
       "2                    0  \n",
       "\n",
       "[3 rows x 26 columns]"
      ]
     },
     "execution_count": 37,
     "metadata": {},
     "output_type": "execute_result"
    }
   ],
   "source": [
    "data1.head(3)"
   ]
  },
  {
   "cell_type": "code",
   "execution_count": 38,
   "id": "9754dcc6",
   "metadata": {},
   "outputs": [
    {
     "data": {
      "text/plain": [
       "(45000, 26)"
      ]
     },
     "execution_count": 38,
     "metadata": {},
     "output_type": "execute_result"
    }
   ],
   "source": [
    "data1.shape"
   ]
  },
  {
   "cell_type": "code",
   "execution_count": 39,
   "id": "9109ad08",
   "metadata": {},
   "outputs": [
    {
     "data": {
      "text/plain": [
       "array([1, 0], dtype=int64)"
      ]
     },
     "execution_count": 39,
     "metadata": {},
     "output_type": "execute_result"
    }
   ],
   "source": [
    "data1['loan_status'].unique()"
   ]
  },
  {
   "cell_type": "code",
   "execution_count": 40,
   "id": "dc7ef887",
   "metadata": {},
   "outputs": [
    {
     "data": {
      "text/plain": [
       "Index(['person_gender', 'person_income', 'person_emp_exp', 'loan_amnt',\n",
       "       'loan_int_rate', 'loan_percent_income', 'cb_person_cred_hist_length',\n",
       "       'credit_score', 'previous_loan_defaults_on_file', 'loan_status',\n",
       "       'age_group', 'person_income_log', 'person_education_Associate',\n",
       "       'person_education_Bachelor', 'person_education_High School',\n",
       "       'person_education_Higher education', 'person_home_ownership_MORTGAGE',\n",
       "       'person_home_ownership_OTHER', 'person_home_ownership_OWN',\n",
       "       'person_home_ownership_RENT', 'loan_intent_DEBTCONSOLIDATION',\n",
       "       'loan_intent_EDUCATION', 'loan_intent_HOMEIMPROVEMENT',\n",
       "       'loan_intent_MEDICAL', 'loan_intent_PERSONAL', 'loan_intent_VENTURE'],\n",
       "      dtype='object')"
      ]
     },
     "execution_count": 40,
     "metadata": {},
     "output_type": "execute_result"
    }
   ],
   "source": [
    "data1.columns"
   ]
  },
  {
   "cell_type": "code",
   "execution_count": 41,
   "id": "ef4b4367",
   "metadata": {},
   "outputs": [],
   "source": [
    "target_col = ['loan_status']"
   ]
  },
  {
   "cell_type": "code",
   "execution_count": 42,
   "id": "e256f4d4",
   "metadata": {},
   "outputs": [],
   "source": [
    "num_cols1 = ['person_income_log', 'person_emp_exp',\n",
    "       'loan_amnt', 'loan_int_rate', 'loan_percent_income',\n",
    "       'cb_person_cred_hist_length', 'credit_score']"
   ]
  },
  {
   "cell_type": "code",
   "execution_count": 43,
   "id": "0b534033",
   "metadata": {},
   "outputs": [],
   "source": [
    "#'previous_loan_defaults_on_file' -- removing this column as it is highly correlated to output\n",
    "cat_cols1 = ['person_gender','age_group',\n",
    "       'person_education_Associate', 'person_education_Bachelor',\n",
    "       'person_education_High School',\n",
    "       'person_education_Higher education', 'person_home_ownership_MORTGAGE',\n",
    "       'person_home_ownership_OTHER', 'person_home_ownership_OWN',\n",
    "       'person_home_ownership_RENT', 'loan_intent_DEBTCONSOLIDATION',\n",
    "       'loan_intent_EDUCATION', 'loan_intent_HOMEIMPROVEMENT',\n",
    "       'loan_intent_MEDICAL', 'loan_intent_PERSONAL', 'loan_intent_VENTURE']"
   ]
  },
  {
   "cell_type": "code",
   "execution_count": 44,
   "id": "a86e4ac6",
   "metadata": {},
   "outputs": [
    {
     "name": "stdout",
     "output_type": "stream",
     "text": [
      "numerical columns 7\n",
      "categorical columns 16\n"
     ]
    }
   ],
   "source": [
    "print(\"numerical columns\", len(num_cols1))\n",
    "print(\"categorical columns\", len(cat_cols1))"
   ]
  },
  {
   "cell_type": "code",
   "execution_count": 45,
   "id": "32c10cd4",
   "metadata": {},
   "outputs": [],
   "source": [
    "input_features = cat_cols1 + num_cols1\n",
    "x = data1[input_features]\n",
    "y = data1['loan_status']"
   ]
  },
  {
   "cell_type": "code",
   "execution_count": 46,
   "id": "69e955d1",
   "metadata": {},
   "outputs": [
    {
     "name": "stdout",
     "output_type": "stream",
     "text": [
      "['person_gender', 'age_group', 'person_education_Associate', 'person_education_Bachelor', 'person_education_High School', 'person_education_Higher education', 'person_home_ownership_MORTGAGE', 'person_home_ownership_OTHER', 'person_home_ownership_OWN', 'person_home_ownership_RENT', 'loan_intent_DEBTCONSOLIDATION', 'loan_intent_EDUCATION', 'loan_intent_HOMEIMPROVEMENT', 'loan_intent_MEDICAL', 'loan_intent_PERSONAL', 'loan_intent_VENTURE', 'person_income_log', 'person_emp_exp', 'loan_amnt', 'loan_int_rate', 'loan_percent_income', 'cb_person_cred_hist_length', 'credit_score']\n"
     ]
    }
   ],
   "source": [
    "print(input_features)"
   ]
  },
  {
   "cell_type": "code",
   "execution_count": 47,
   "id": "9869f85b",
   "metadata": {},
   "outputs": [],
   "source": [
    "data1.to_csv('preprocessed_data.csv',index=False)"
   ]
  },
  {
   "cell_type": "code",
   "execution_count": 46,
   "id": "2838d8e7",
   "metadata": {},
   "outputs": [
    {
     "name": "stdout",
     "output_type": "stream",
     "text": [
      "(31500, 23) (13500, 23) (31500,) (13500,)\n"
     ]
    }
   ],
   "source": [
    "x_train,x_test,y_train,y_test = train_test_split(x,y,test_size=0.3,shuffle=True,random_state=42)\n",
    "print(x_train.shape,x_test.shape,y_train.shape,y_test.shape)"
   ]
  },
  {
   "cell_type": "markdown",
   "id": "f68ea802",
   "metadata": {},
   "source": [
    "**RESAMPLE THE DATA**"
   ]
  },
  {
   "cell_type": "code",
   "execution_count": 47,
   "id": "b7ef5a2e",
   "metadata": {},
   "outputs": [],
   "source": [
    "#under = RandomUnderSampler(sampling_strategy=0.4285, random_state=200)\n",
    "#over = RandomOverSampler(sampling_strategy=0.4285, random_state=200)\n",
    "sm = SMOTE(random_state = 200)\n",
    "x_train,y_train = sm.fit_resample(x_train,y_train)"
   ]
  },
  {
   "cell_type": "code",
   "execution_count": 48,
   "id": "5bf4ea36",
   "metadata": {},
   "outputs": [],
   "source": [
    "#CREATE PATH FOR SAVING FILES\n",
    "model_results = \"my_projects/loan_approval\" #chnage to own file path\n",
    "cur_user = \"SMOTE_STANDARD_\" + os.getlogin().split('.')[0]\n",
    "exp_code = str(round(time.time() * 1000)) + cur_user\n",
    "results_path = os.path.join(model_results, exp_code)+\"/\"\n",
    "\n",
    "try:\n",
    "    os.mkdir(results_path)\n",
    "except OSError as error:\n",
    "    pass"
   ]
  },
  {
   "cell_type": "code",
   "execution_count": 49,
   "id": "348e7105",
   "metadata": {},
   "outputs": [],
   "source": [
    "x_train.to_csv(results_path + \"x_train.csv\",index=False)\n",
    "x_test.to_csv(results_path + \"x_test.csv\",index=False)\n",
    "y_train.to_csv(results_path + \"y_train.csv\",index=False)\n",
    "y_test.to_csv(results_path + \"y_test.csv\",index=False)"
   ]
  },
  {
   "cell_type": "code",
   "execution_count": 51,
   "id": "962c7abd",
   "metadata": {},
   "outputs": [],
   "source": [
    "scale = StandardScaler()"
   ]
  },
  {
   "cell_type": "code",
   "execution_count": 52,
   "id": "a94da574",
   "metadata": {},
   "outputs": [],
   "source": [
    "lasso = SelectFromModel(Lasso(alpha=0.01))"
   ]
  },
  {
   "cell_type": "markdown",
   "id": "1221e2e5",
   "metadata": {},
   "source": [
    "## MODELLING"
   ]
  },
  {
   "cell_type": "code",
   "execution_count": 53,
   "id": "e0709d67",
   "metadata": {},
   "outputs": [],
   "source": [
    "@contextmanager\n",
    "def redirect_stdout_to_file(file_path):\n",
    "    original_stdout = sys.stdout\n",
    "    # Open in UTF-8 with replacement of unencodable characters\n",
    "    sys.stdout = open(file_path, \"w\", encoding=\"utf-8\", errors=\"replace\")\n",
    "    try:\n",
    "        yield\n",
    "    finally:\n",
    "        sys.stdout.close()\n",
    "        sys.stdout = original_stdout"
   ]
  },
  {
   "cell_type": "code",
   "execution_count": 57,
   "id": "faa2eca7",
   "metadata": {},
   "outputs": [],
   "source": [
    "def evaluate_model(model_name,pipeline):\n",
    "    #fit the pipeline\n",
    "    pipeline.fit(x_train,y_train)\n",
    "    \n",
    "    selected_features = x_train.columns[pipeline.named_steps['feature_selection'].get_support()]\n",
    "    print(\"Selected Features:\", selected_features.tolist())\n",
    "    \n",
    "    preds = np.delete(pipeline.predict_proba(x_test),0,1)\n",
    "    \n",
    "    print(f\"-----{model_name} results without thresholding-------------------\")\n",
    "    print(classification_report(y_test,[1 if x>0.5 else 0 for x in preds]))\n",
    "    print(confusion_matrix(y_test,[1 if x>0.5 else 0 for x in preds]))\n",
    "\n",
    "    print(f\"------------------------------------------------------------------\")\n",
    "    print(f\"-----{model_name} results with thresholding-----------------------\")\n",
    "    precision1, recall1, thresholds1 = precision_recall_curve(\n",
    "        y_test, preds)\n",
    "    # convert to f score\n",
    "    numerator = 2 * precision1 * recall1\n",
    "    denominator = precision1 + recall1\n",
    "    fscore = np.divide(numerator, denominator, out=np.zeros_like(\n",
    "        denominator), where=(denominator != 0))\n",
    "    ix = np.argmax(fscore)\n",
    "    print('Best Threshold=%f, F-Score=%.3f' % (thresholds1[ix], fscore[ix]))\n",
    "    print(classification_report(\n",
    "    y_test, [1 if x >= thresholds1[ix] else 0 for x in preds]))\n",
    "    print(confusion_matrix(\n",
    "        y_test, [1 if x >= thresholds1[ix] else 0 for x in preds]))\n",
    "        \n",
    "    ##get scores required using threshold limit\n",
    "    thresh_orig = thresholds1[ix]\n",
    "    cm = confusion_matrix(y_test, [1 if x >= thresholds1[ix] else 0 for x in preds])\n",
    "    true_neg_orig, false_pos_orig, false_neg_orig, true_pos_orig = cm.ravel()\n",
    "    roc_auc_orig = roc_auc_score(y_test, [1 if x >= thresholds1[ix] else 0 for x in preds])\n",
    "    f1_orig = f1_score(y_test, [1 if x >= thresholds1[ix] else 0 for x in preds])\n",
    "    precision_orig = precision_score(y_test, [1 if x >= thresholds1[ix] else 0 for x in preds])\n",
    "    recall_orig = recall_score(y_test, [1 if x >= thresholds1[ix] else 0 for x in preds])\n",
    "    accuracy_orig = accuracy_score(y_test, [1 if x >= thresholds1[ix] else 0 for x in preds])\n",
    "    AUROC_orig = roc_auc_score(\n",
    "    y_test, [1 if x >= thresholds1[ix] else 0 for x in preds])\n",
    "    gini_score_orig =  2*AUROC_orig-1\n",
    "    \n",
    "    return preds,gini_score_orig,roc_auc_orig,precision_orig,recall_orig,f1_orig,accuracy_orig,true_neg_orig, false_pos_orig, false_neg_orig, true_pos_orig,thresh_orig"
   ]
  },
  {
   "cell_type": "code",
   "execution_count": 58,
   "id": "4cc6a7b0",
   "metadata": {},
   "outputs": [],
   "source": [
    "def evaluate_model_with_tuning(model_name,pipeline,hyperparameters,x_train,y_train,x_test,y_test):\n",
    "    print(f\"---------------------AFTER PARAMETER TUNING-------------------------------\")\n",
    "    print(f\"--------------------------------------------------------------------------\")\n",
    "\n",
    "    search_model = RandomizedSearchCV(pipeline,hyperparameters,cv=5,n_iter=10, scoring='f1', random_state=42)\n",
    "    search_model.fit(x_train,y_train)\n",
    "    \n",
    "    print(search_model.best_estimator_)\n",
    "    \n",
    "    best_model = search_model.best_estimator_\n",
    "    \n",
    "    print(\"Best params:\", search_model.best_params_)\n",
    "    \n",
    "    selected_features = x_train.columns[search_model.best_estimator_.named_steps['feature_selection'].get_support()]\n",
    "    print(\"Selected Features:\", selected_features.tolist())\n",
    "\n",
    "    #SAVE MODEL\n",
    "    joblib.dump(search_model, results_path + exp_code + \"_\" + model_name + \".pkl\")\n",
    "    \n",
    "\n",
    "    #get predictions of tuned model\n",
    "    predictions = np.delete(search_model.predict_proba(x_test),0,1)\n",
    "    print(f\"-----{model_name} results without thresholding-----------------------\")\n",
    "    print(classification_report(y_test,[1 if x>0.5 else 0 for x in predictions]))\n",
    "    print(confusion_matrix(y_test,[1 if x>0.5 else 0 for x in predictions]))\n",
    "\n",
    "    print(f\"--------------------------------------------------------------------\")\n",
    "    print(f\"-----{model_name} results with thresholding--------------------------\")\n",
    "    precision1, recall1, thresholds1 = precision_recall_curve(\n",
    "        y_test, predictions)\n",
    "    \n",
    "    numerator = 2 * precision1 * recall1\n",
    "    denominator = precision1 + recall1\n",
    "    fscore = np.divide(numerator, denominator, out=np.zeros_like(\n",
    "        denominator), where=(denominator != 0))\n",
    "    ix = np.argmax(fscore)\n",
    "    print('Best Threshold=%f, F-Score=%.3f' %(thresholds1[ix], fscore[ix]))\n",
    "    print(classification_report(\n",
    "    y_test, [1 if x >= thresholds1[ix] else 0 for x in predictions]))\n",
    "    print(confusion_matrix(\n",
    "        y_test, [1 if x >= thresholds1[ix] else 0 for x in predictions]))\n",
    "\n",
    "    ##get scores required using threshold limit\n",
    "    thresh = thresholds1[ix]\n",
    "    cm = confusion_matrix(y_test, [1 if x >= thresholds1[ix] else 0 for x in predictions])\n",
    "    true_neg, false_pos, false_neg, true_pos = cm.ravel()\n",
    "    roc_auc = roc_auc_score(y_test, [1 if x >= thresholds1[ix] else 0 for x in predictions])\n",
    "    f1 = f1_score(y_test, [1 if x >= thresholds1[ix] else 0 for x in predictions])\n",
    "    precision = precision_score(y_test, [1 if x >= thresholds1[ix] else 0 for x in predictions])\n",
    "    recall = recall_score(y_test, [1 if x >= thresholds1[ix] else 0 for x in predictions])\n",
    "    accuracy = accuracy_score(y_test, [1 if x >= thresholds1[ix] else 0 for x in predictions])\n",
    "    \n",
    "    #Get gini score\n",
    "    AUROC = roc_auc_score(\n",
    "    y_test, [1 if x >= thresholds1[ix] else 0 for x in predictions])\n",
    "    gini_score =  2*AUROC-1\n",
    "    print (\"GINI SCORE\", gini_score)\n",
    "    return best_model,selected_features,predictions,gini_score,roc_auc,precision,recall,f1,accuracy,true_neg, false_pos, false_neg, true_pos,thresh\n",
    "    "
   ]
  },
  {
   "cell_type": "code",
   "execution_count": 59,
   "id": "7d755de1",
   "metadata": {},
   "outputs": [],
   "source": [
    "#defining thresholds\n",
    "def cut_off(scale,model_name,model,hyperparameters):\n",
    "    start = time.time()\n",
    "    print(\"results_path:\", results_path)\n",
    "    file_path = results_path+exp_code+\"_\" + model_name + \"_LOGS.txt\"\n",
    "    \n",
    "    with redirect_stdout_to_file(file_path):\n",
    "        print(f\"-------------------------------------------------------------------------\")\n",
    "        \n",
    "        pipeline = Pipeline([\n",
    "            ('scaler', scale),\n",
    "            ('feature_selection', lasso),\n",
    "            (\"classifier\",model)\n",
    "        ])\n",
    "        \n",
    "        #evaluate model with default parameters\n",
    "        preds,gini_score_orig,roc_auc_orig,precision_orig,recall_orig,f1_orig,accuracy_orig,true_neg_orig, false_pos_orig, false_neg_orig, true_pos_orig,thresh_orig = evaluate_model(model_name,pipeline)\n",
    "        \n",
    "        #Evaluate hyperparameter tuned model\n",
    "        best_model,selected_features,predictions,gini_score,roc_auc,precision,recall,f1,accuracy,true_neg, false_pos, false_neg, true_pos,thresh = evaluate_model_with_tuning(model_name,pipeline,hyperparameters,\n",
    "        x_train,y_train,x_test,y_test)\n",
    "        \n",
    "        before_tuning = pd.DataFrame({'MODEL' : [model_name],\n",
    "                          'THRESHOLD':thresh_orig,\n",
    "                          'GINI SCORE':gini_score_orig,\n",
    "                          'ROC_AUC':roc_auc_orig,\n",
    "                          'PRECISION':precision_orig,\n",
    "                          'RECALL':recall_orig,\n",
    "                          'F1_SCORE':f1_orig,\n",
    "                        'ACCURACY':accuracy_orig,\n",
    "                        'TP':true_pos_orig,\n",
    "                         'FP':false_pos_orig,\n",
    "                         'TN':true_neg_orig,\n",
    "                         'FN':false_neg_orig})\n",
    "        after_tuning = pd.DataFrame({'MODEL' : [model_name],\n",
    "                        'THRESHOLD':thresh,\n",
    "                          'GINI SCORE':gini_score,\n",
    "                          'ROC_AUC':roc_auc,\n",
    "                          'PRECISION':precision,\n",
    "                          'RECALL':recall,\n",
    "                          'F1_SCORE':f1,\n",
    "                        'ACCURACY':accuracy,\n",
    "                        'TP':true_pos,\n",
    "                         'FP':false_pos,\n",
    "                         'TN':true_neg,\n",
    "                         'FN':false_neg})\n",
    "    end = time.time()\n",
    "    print(\"TIME TAKEN\",end-start)\n",
    "    return preds,predictions,before_tuning,after_tuning"
   ]
  },
  {
   "cell_type": "markdown",
   "id": "7ef4f4ef",
   "metadata": {},
   "source": [
    "**1. LOGISTIC REGRESSION**"
   ]
  },
  {
   "cell_type": "code",
   "execution_count": 60,
   "id": "79f9eeac",
   "metadata": {},
   "outputs": [],
   "source": [
    "model1 = LogisticRegression(random_state=42)"
   ]
  },
  {
   "cell_type": "code",
   "execution_count": 61,
   "id": "a640a9e1",
   "metadata": {},
   "outputs": [],
   "source": [
    "hyperparameters1 = {\n",
    "    \"classifier__penalty\":    [\"l1\", \"l2\"],\n",
    "    \"classifier__C\":          [0.01, 0.1, 1, 10, 100],\n",
    "    \"classifier__solver\":     [\"liblinear\", \"saga\"],       # both support l1 & l2\n",
    "    \"classifier__class_weight\": [\"balanced\", None]\n",
    "}"
   ]
  },
  {
   "cell_type": "code",
   "execution_count": 62,
   "id": "323ced41",
   "metadata": {},
   "outputs": [
    {
     "name": "stdout",
     "output_type": "stream",
     "text": [
      "results_path: C:/Users/user/Desktop/analytics/my_projects/loan_approval\\1749649249889SMOTE_STANDARD_user/\n",
      "TIME TAKEN 96.02298974990845\n"
     ]
    }
   ],
   "source": [
    "lg_preds,lg_predictions,lg_before_tuning,lg_after_tuning = cut_off(scale = scale,\n",
    "                                                             model_name = 'Logistic Regression',\n",
    "                                                                   model=model1,hyperparameters=hyperparameters1)"
   ]
  },
  {
   "cell_type": "code",
   "execution_count": 63,
   "id": "8ccb9567",
   "metadata": {},
   "outputs": [
    {
     "data": {
      "text/html": [
       "<div>\n",
       "<style scoped>\n",
       "    .dataframe tbody tr th:only-of-type {\n",
       "        vertical-align: middle;\n",
       "    }\n",
       "\n",
       "    .dataframe tbody tr th {\n",
       "        vertical-align: top;\n",
       "    }\n",
       "\n",
       "    .dataframe thead th {\n",
       "        text-align: right;\n",
       "    }\n",
       "</style>\n",
       "<table border=\"1\" class=\"dataframe\">\n",
       "  <thead>\n",
       "    <tr style=\"text-align: right;\">\n",
       "      <th></th>\n",
       "      <th>MODEL</th>\n",
       "      <th>THRESHOLD</th>\n",
       "      <th>GINI SCORE</th>\n",
       "      <th>ROC_AUC</th>\n",
       "      <th>PRECISION</th>\n",
       "      <th>RECALL</th>\n",
       "      <th>F1_SCORE</th>\n",
       "      <th>ACCURACY</th>\n",
       "      <th>TP</th>\n",
       "      <th>FP</th>\n",
       "      <th>TN</th>\n",
       "      <th>FN</th>\n",
       "    </tr>\n",
       "  </thead>\n",
       "  <tbody>\n",
       "    <tr>\n",
       "      <th>0</th>\n",
       "      <td>Logistic Regression</td>\n",
       "      <td>0.326876</td>\n",
       "      <td>0.555493</td>\n",
       "      <td>0.777747</td>\n",
       "      <td>0.574681</td>\n",
       "      <td>0.705022</td>\n",
       "      <td>0.633214</td>\n",
       "      <td>0.818074</td>\n",
       "      <td>2120</td>\n",
       "      <td>1569</td>\n",
       "      <td>8924</td>\n",
       "      <td>887</td>\n",
       "    </tr>\n",
       "  </tbody>\n",
       "</table>\n",
       "</div>"
      ],
      "text/plain": [
       "                 MODEL  THRESHOLD  GINI SCORE   ROC_AUC  PRECISION    RECALL  \\\n",
       "0  Logistic Regression   0.326876    0.555493  0.777747   0.574681  0.705022   \n",
       "\n",
       "   F1_SCORE  ACCURACY    TP    FP    TN   FN  \n",
       "0  0.633214  0.818074  2120  1569  8924  887  "
      ]
     },
     "execution_count": 63,
     "metadata": {},
     "output_type": "execute_result"
    }
   ],
   "source": [
    "lg_before_tuning"
   ]
  },
  {
   "cell_type": "code",
   "execution_count": 64,
   "id": "a4869293",
   "metadata": {},
   "outputs": [
    {
     "data": {
      "text/html": [
       "<div>\n",
       "<style scoped>\n",
       "    .dataframe tbody tr th:only-of-type {\n",
       "        vertical-align: middle;\n",
       "    }\n",
       "\n",
       "    .dataframe tbody tr th {\n",
       "        vertical-align: top;\n",
       "    }\n",
       "\n",
       "    .dataframe thead th {\n",
       "        text-align: right;\n",
       "    }\n",
       "</style>\n",
       "<table border=\"1\" class=\"dataframe\">\n",
       "  <thead>\n",
       "    <tr style=\"text-align: right;\">\n",
       "      <th></th>\n",
       "      <th>MODEL</th>\n",
       "      <th>THRESHOLD</th>\n",
       "      <th>GINI SCORE</th>\n",
       "      <th>ROC_AUC</th>\n",
       "      <th>PRECISION</th>\n",
       "      <th>RECALL</th>\n",
       "      <th>F1_SCORE</th>\n",
       "      <th>ACCURACY</th>\n",
       "      <th>TP</th>\n",
       "      <th>FP</th>\n",
       "      <th>TN</th>\n",
       "      <th>FN</th>\n",
       "    </tr>\n",
       "  </thead>\n",
       "  <tbody>\n",
       "    <tr>\n",
       "      <th>0</th>\n",
       "      <td>Logistic Regression</td>\n",
       "      <td>0.327261</td>\n",
       "      <td>0.555542</td>\n",
       "      <td>0.777771</td>\n",
       "      <td>0.57519</td>\n",
       "      <td>0.704689</td>\n",
       "      <td>0.633388</td>\n",
       "      <td>0.818296</td>\n",
       "      <td>2119</td>\n",
       "      <td>1565</td>\n",
       "      <td>8928</td>\n",
       "      <td>888</td>\n",
       "    </tr>\n",
       "  </tbody>\n",
       "</table>\n",
       "</div>"
      ],
      "text/plain": [
       "                 MODEL  THRESHOLD  GINI SCORE   ROC_AUC  PRECISION    RECALL  \\\n",
       "0  Logistic Regression   0.327261    0.555542  0.777771    0.57519  0.704689   \n",
       "\n",
       "   F1_SCORE  ACCURACY    TP    FP    TN   FN  \n",
       "0  0.633388  0.818296  2119  1565  8928  888  "
      ]
     },
     "execution_count": 64,
     "metadata": {},
     "output_type": "execute_result"
    }
   ],
   "source": [
    "lg_after_tuning"
   ]
  },
  {
   "cell_type": "markdown",
   "id": "02b4649d",
   "metadata": {},
   "source": [
    "**2.RANDOM FOREST**"
   ]
  },
  {
   "cell_type": "code",
   "execution_count": 65,
   "id": "8ce1f535",
   "metadata": {},
   "outputs": [],
   "source": [
    "model2 = RandomForestClassifier(random_state=42)"
   ]
  },
  {
   "cell_type": "code",
   "execution_count": 66,
   "id": "c7d8a4e0",
   "metadata": {},
   "outputs": [],
   "source": [
    "# Declare hyperparameters to tune\n",
    "hyperparameters2 = {'classifier__max_features' : ['log2'],\n",
    "                  'classifier__max_depth': [None, 5, 3, 1],\n",
    "                   'classifier__n_estimators':list(np.arange(50,500,100))\n",
    "                   }"
   ]
  },
  {
   "cell_type": "code",
   "execution_count": 67,
   "id": "8af5c12a",
   "metadata": {},
   "outputs": [
    {
     "name": "stdout",
     "output_type": "stream",
     "text": [
      "results_path: C:/Users/user/Desktop/analytics/my_projects/loan_approval\\1749649249889SMOTE_STANDARD_user/\n",
      "TIME TAKEN 347.5590925216675\n"
     ]
    }
   ],
   "source": [
    "rf_preds,rf_predictions,rf_before_tuning,rf_after_tuning = cut_off(scale = scale,\n",
    "                                                             model_name = 'Random Forest Classifier',model=model2,hyperparameters=hyperparameters2)"
   ]
  },
  {
   "cell_type": "code",
   "execution_count": 68,
   "id": "a7d32b64",
   "metadata": {},
   "outputs": [
    {
     "data": {
      "text/html": [
       "<div>\n",
       "<style scoped>\n",
       "    .dataframe tbody tr th:only-of-type {\n",
       "        vertical-align: middle;\n",
       "    }\n",
       "\n",
       "    .dataframe tbody tr th {\n",
       "        vertical-align: top;\n",
       "    }\n",
       "\n",
       "    .dataframe thead th {\n",
       "        text-align: right;\n",
       "    }\n",
       "</style>\n",
       "<table border=\"1\" class=\"dataframe\">\n",
       "  <thead>\n",
       "    <tr style=\"text-align: right;\">\n",
       "      <th></th>\n",
       "      <th>MODEL</th>\n",
       "      <th>THRESHOLD</th>\n",
       "      <th>GINI SCORE</th>\n",
       "      <th>ROC_AUC</th>\n",
       "      <th>PRECISION</th>\n",
       "      <th>RECALL</th>\n",
       "      <th>F1_SCORE</th>\n",
       "      <th>ACCURACY</th>\n",
       "      <th>TP</th>\n",
       "      <th>FP</th>\n",
       "      <th>TN</th>\n",
       "      <th>FN</th>\n",
       "    </tr>\n",
       "  </thead>\n",
       "  <tbody>\n",
       "    <tr>\n",
       "      <th>0</th>\n",
       "      <td>Random Forest Classifier</td>\n",
       "      <td>0.52</td>\n",
       "      <td>0.646098</td>\n",
       "      <td>0.823049</td>\n",
       "      <td>0.843403</td>\n",
       "      <td>0.682408</td>\n",
       "      <td>0.754412</td>\n",
       "      <td>0.901037</td>\n",
       "      <td>2052</td>\n",
       "      <td>381</td>\n",
       "      <td>10112</td>\n",
       "      <td>955</td>\n",
       "    </tr>\n",
       "  </tbody>\n",
       "</table>\n",
       "</div>"
      ],
      "text/plain": [
       "                      MODEL  THRESHOLD  GINI SCORE   ROC_AUC  PRECISION  \\\n",
       "0  Random Forest Classifier       0.52    0.646098  0.823049   0.843403   \n",
       "\n",
       "     RECALL  F1_SCORE  ACCURACY    TP   FP     TN   FN  \n",
       "0  0.682408  0.754412  0.901037  2052  381  10112  955  "
      ]
     },
     "execution_count": 68,
     "metadata": {},
     "output_type": "execute_result"
    }
   ],
   "source": [
    "rf_before_tuning"
   ]
  },
  {
   "cell_type": "code",
   "execution_count": 69,
   "id": "f25f407a",
   "metadata": {},
   "outputs": [
    {
     "data": {
      "text/html": [
       "<div>\n",
       "<style scoped>\n",
       "    .dataframe tbody tr th:only-of-type {\n",
       "        vertical-align: middle;\n",
       "    }\n",
       "\n",
       "    .dataframe tbody tr th {\n",
       "        vertical-align: top;\n",
       "    }\n",
       "\n",
       "    .dataframe thead th {\n",
       "        text-align: right;\n",
       "    }\n",
       "</style>\n",
       "<table border=\"1\" class=\"dataframe\">\n",
       "  <thead>\n",
       "    <tr style=\"text-align: right;\">\n",
       "      <th></th>\n",
       "      <th>MODEL</th>\n",
       "      <th>THRESHOLD</th>\n",
       "      <th>GINI SCORE</th>\n",
       "      <th>ROC_AUC</th>\n",
       "      <th>PRECISION</th>\n",
       "      <th>RECALL</th>\n",
       "      <th>F1_SCORE</th>\n",
       "      <th>ACCURACY</th>\n",
       "      <th>TP</th>\n",
       "      <th>FP</th>\n",
       "      <th>TN</th>\n",
       "      <th>FN</th>\n",
       "    </tr>\n",
       "  </thead>\n",
       "  <tbody>\n",
       "    <tr>\n",
       "      <th>0</th>\n",
       "      <td>Random Forest Classifier</td>\n",
       "      <td>0.506667</td>\n",
       "      <td>0.646662</td>\n",
       "      <td>0.823331</td>\n",
       "      <td>0.836378</td>\n",
       "      <td>0.685068</td>\n",
       "      <td>0.753199</td>\n",
       "      <td>0.9</td>\n",
       "      <td>2060</td>\n",
       "      <td>403</td>\n",
       "      <td>10090</td>\n",
       "      <td>947</td>\n",
       "    </tr>\n",
       "  </tbody>\n",
       "</table>\n",
       "</div>"
      ],
      "text/plain": [
       "                      MODEL  THRESHOLD  GINI SCORE   ROC_AUC  PRECISION  \\\n",
       "0  Random Forest Classifier   0.506667    0.646662  0.823331   0.836378   \n",
       "\n",
       "     RECALL  F1_SCORE  ACCURACY    TP   FP     TN   FN  \n",
       "0  0.685068  0.753199       0.9  2060  403  10090  947  "
      ]
     },
     "execution_count": 69,
     "metadata": {},
     "output_type": "execute_result"
    }
   ],
   "source": [
    "rf_after_tuning"
   ]
  },
  {
   "cell_type": "markdown",
   "id": "f92dd9f8",
   "metadata": {},
   "source": [
    "**3.DECISION TREE**"
   ]
  },
  {
   "cell_type": "code",
   "execution_count": 70,
   "id": "ac93b199",
   "metadata": {},
   "outputs": [],
   "source": [
    "model3 = DecisionTreeClassifier(random_state=42,ccp_alpha=0.002)"
   ]
  },
  {
   "cell_type": "code",
   "execution_count": 71,
   "id": "09b52ad3",
   "metadata": {},
   "outputs": [],
   "source": [
    "hyperparameters3 = {'classifier__max_depth': [None,1,2,3,4,5,6,7,8],\n",
    "                   'classifier__min_samples_leaf':[1, 10, 25],\n",
    "                   \"classifier__ccp_alpha\": np.logspace(-4, -1, 10)}"
   ]
  },
  {
   "cell_type": "code",
   "execution_count": 72,
   "id": "bd45c928",
   "metadata": {},
   "outputs": [
    {
     "name": "stdout",
     "output_type": "stream",
     "text": [
      "results_path: C:/Users/user/Desktop/analytics/my_projects/loan_approval\\1749649249889SMOTE_STANDARD_user/\n",
      "TIME TAKEN 20.46474552154541\n"
     ]
    }
   ],
   "source": [
    "dt_preds,dt_predictions,dt_before_tuning,dt_after_tuning = cut_off(scale = scale,model_name = 'Decision Tree',\n",
    "                                                             model=model3,hyperparameters=hyperparameters3)"
   ]
  },
  {
   "cell_type": "code",
   "execution_count": 73,
   "id": "d965af32",
   "metadata": {},
   "outputs": [
    {
     "data": {
      "text/html": [
       "<div>\n",
       "<style scoped>\n",
       "    .dataframe tbody tr th:only-of-type {\n",
       "        vertical-align: middle;\n",
       "    }\n",
       "\n",
       "    .dataframe tbody tr th {\n",
       "        vertical-align: top;\n",
       "    }\n",
       "\n",
       "    .dataframe thead th {\n",
       "        text-align: right;\n",
       "    }\n",
       "</style>\n",
       "<table border=\"1\" class=\"dataframe\">\n",
       "  <thead>\n",
       "    <tr style=\"text-align: right;\">\n",
       "      <th></th>\n",
       "      <th>MODEL</th>\n",
       "      <th>THRESHOLD</th>\n",
       "      <th>GINI SCORE</th>\n",
       "      <th>ROC_AUC</th>\n",
       "      <th>PRECISION</th>\n",
       "      <th>RECALL</th>\n",
       "      <th>F1_SCORE</th>\n",
       "      <th>ACCURACY</th>\n",
       "      <th>TP</th>\n",
       "      <th>FP</th>\n",
       "      <th>TN</th>\n",
       "      <th>FN</th>\n",
       "    </tr>\n",
       "  </thead>\n",
       "  <tbody>\n",
       "    <tr>\n",
       "      <th>0</th>\n",
       "      <td>Decision Tree</td>\n",
       "      <td>0.819482</td>\n",
       "      <td>0.613771</td>\n",
       "      <td>0.806886</td>\n",
       "      <td>0.812834</td>\n",
       "      <td>0.657133</td>\n",
       "      <td>0.726738</td>\n",
       "      <td>0.889926</td>\n",
       "      <td>1976</td>\n",
       "      <td>455</td>\n",
       "      <td>10038</td>\n",
       "      <td>1031</td>\n",
       "    </tr>\n",
       "  </tbody>\n",
       "</table>\n",
       "</div>"
      ],
      "text/plain": [
       "           MODEL  THRESHOLD  GINI SCORE   ROC_AUC  PRECISION    RECALL  \\\n",
       "0  Decision Tree   0.819482    0.613771  0.806886   0.812834  0.657133   \n",
       "\n",
       "   F1_SCORE  ACCURACY    TP   FP     TN    FN  \n",
       "0  0.726738  0.889926  1976  455  10038  1031  "
      ]
     },
     "execution_count": 73,
     "metadata": {},
     "output_type": "execute_result"
    }
   ],
   "source": [
    "dt_before_tuning"
   ]
  },
  {
   "cell_type": "code",
   "execution_count": 74,
   "id": "9041eff9",
   "metadata": {},
   "outputs": [
    {
     "data": {
      "text/html": [
       "<div>\n",
       "<style scoped>\n",
       "    .dataframe tbody tr th:only-of-type {\n",
       "        vertical-align: middle;\n",
       "    }\n",
       "\n",
       "    .dataframe tbody tr th {\n",
       "        vertical-align: top;\n",
       "    }\n",
       "\n",
       "    .dataframe thead th {\n",
       "        text-align: right;\n",
       "    }\n",
       "</style>\n",
       "<table border=\"1\" class=\"dataframe\">\n",
       "  <thead>\n",
       "    <tr style=\"text-align: right;\">\n",
       "      <th></th>\n",
       "      <th>MODEL</th>\n",
       "      <th>THRESHOLD</th>\n",
       "      <th>GINI SCORE</th>\n",
       "      <th>ROC_AUC</th>\n",
       "      <th>PRECISION</th>\n",
       "      <th>RECALL</th>\n",
       "      <th>F1_SCORE</th>\n",
       "      <th>ACCURACY</th>\n",
       "      <th>TP</th>\n",
       "      <th>FP</th>\n",
       "      <th>TN</th>\n",
       "      <th>FN</th>\n",
       "    </tr>\n",
       "  </thead>\n",
       "  <tbody>\n",
       "    <tr>\n",
       "      <th>0</th>\n",
       "      <td>Decision Tree</td>\n",
       "      <td>0.546988</td>\n",
       "      <td>0.635453</td>\n",
       "      <td>0.817726</td>\n",
       "      <td>0.787452</td>\n",
       "      <td>0.688726</td>\n",
       "      <td>0.734788</td>\n",
       "      <td>0.889259</td>\n",
       "      <td>2071</td>\n",
       "      <td>559</td>\n",
       "      <td>9934</td>\n",
       "      <td>936</td>\n",
       "    </tr>\n",
       "  </tbody>\n",
       "</table>\n",
       "</div>"
      ],
      "text/plain": [
       "           MODEL  THRESHOLD  GINI SCORE   ROC_AUC  PRECISION    RECALL  \\\n",
       "0  Decision Tree   0.546988    0.635453  0.817726   0.787452  0.688726   \n",
       "\n",
       "   F1_SCORE  ACCURACY    TP   FP    TN   FN  \n",
       "0  0.734788  0.889259  2071  559  9934  936  "
      ]
     },
     "execution_count": 74,
     "metadata": {},
     "output_type": "execute_result"
    }
   ],
   "source": [
    "dt_after_tuning"
   ]
  },
  {
   "cell_type": "code",
   "execution_count": null,
   "id": "0a54e793",
   "metadata": {},
   "outputs": [],
   "source": []
  },
  {
   "cell_type": "markdown",
   "id": "56c0019b",
   "metadata": {},
   "source": [
    "**4. GRADIENT BOOSTING**"
   ]
  },
  {
   "cell_type": "code",
   "execution_count": 75,
   "id": "7dad5ce1",
   "metadata": {},
   "outputs": [],
   "source": [
    "model4 = GradientBoostingClassifier(random_state = 42)"
   ]
  },
  {
   "cell_type": "code",
   "execution_count": 76,
   "id": "40495688",
   "metadata": {},
   "outputs": [],
   "source": [
    "hyperparameters4 = {'classifier__max_depth': [None, 5, 3, 1],\n",
    "                   'classifier__n_estimators':list(np.arange(50,800,150)),\n",
    "                    'classifier__learning_rate' : [0.01, 0.05, 0.1, 0.2,0.3]\n",
    "                   }"
   ]
  },
  {
   "cell_type": "code",
   "execution_count": 77,
   "id": "0a17d2a2",
   "metadata": {},
   "outputs": [
    {
     "name": "stdout",
     "output_type": "stream",
     "text": [
      "results_path: C:/Users/user/Desktop/analytics/my_projects/loan_approval\\1749649249889SMOTE_STANDARD_user/\n",
      "TIME TAKEN 2658.3507211208344\n"
     ]
    }
   ],
   "source": [
    "gbc_preds,gbc_predictions,gbc_before_tuning,gbc_after_tuning = cut_off(scale = scale,model_name = 'Gradient Boosting',\n",
    "                                                             model=model4,hyperparameters=hyperparameters4)"
   ]
  },
  {
   "cell_type": "code",
   "execution_count": 78,
   "id": "4115f05d",
   "metadata": {},
   "outputs": [
    {
     "data": {
      "text/html": [
       "<div>\n",
       "<style scoped>\n",
       "    .dataframe tbody tr th:only-of-type {\n",
       "        vertical-align: middle;\n",
       "    }\n",
       "\n",
       "    .dataframe tbody tr th {\n",
       "        vertical-align: top;\n",
       "    }\n",
       "\n",
       "    .dataframe thead th {\n",
       "        text-align: right;\n",
       "    }\n",
       "</style>\n",
       "<table border=\"1\" class=\"dataframe\">\n",
       "  <thead>\n",
       "    <tr style=\"text-align: right;\">\n",
       "      <th></th>\n",
       "      <th>MODEL</th>\n",
       "      <th>THRESHOLD</th>\n",
       "      <th>GINI SCORE</th>\n",
       "      <th>ROC_AUC</th>\n",
       "      <th>PRECISION</th>\n",
       "      <th>RECALL</th>\n",
       "      <th>F1_SCORE</th>\n",
       "      <th>ACCURACY</th>\n",
       "      <th>TP</th>\n",
       "      <th>FP</th>\n",
       "      <th>TN</th>\n",
       "      <th>FN</th>\n",
       "    </tr>\n",
       "  </thead>\n",
       "  <tbody>\n",
       "    <tr>\n",
       "      <th>0</th>\n",
       "      <td>Gradient Boosting</td>\n",
       "      <td>0.519755</td>\n",
       "      <td>0.635756</td>\n",
       "      <td>0.817878</td>\n",
       "      <td>0.859101</td>\n",
       "      <td>0.66711</td>\n",
       "      <td>0.75103</td>\n",
       "      <td>0.901481</td>\n",
       "      <td>2006</td>\n",
       "      <td>329</td>\n",
       "      <td>10164</td>\n",
       "      <td>1001</td>\n",
       "    </tr>\n",
       "  </tbody>\n",
       "</table>\n",
       "</div>"
      ],
      "text/plain": [
       "               MODEL  THRESHOLD  GINI SCORE   ROC_AUC  PRECISION   RECALL  \\\n",
       "0  Gradient Boosting   0.519755    0.635756  0.817878   0.859101  0.66711   \n",
       "\n",
       "   F1_SCORE  ACCURACY    TP   FP     TN    FN  \n",
       "0   0.75103  0.901481  2006  329  10164  1001  "
      ]
     },
     "execution_count": 78,
     "metadata": {},
     "output_type": "execute_result"
    }
   ],
   "source": [
    "gbc_before_tuning"
   ]
  },
  {
   "cell_type": "code",
   "execution_count": 79,
   "id": "6b4f461d",
   "metadata": {},
   "outputs": [
    {
     "data": {
      "text/html": [
       "<div>\n",
       "<style scoped>\n",
       "    .dataframe tbody tr th:only-of-type {\n",
       "        vertical-align: middle;\n",
       "    }\n",
       "\n",
       "    .dataframe tbody tr th {\n",
       "        vertical-align: top;\n",
       "    }\n",
       "\n",
       "    .dataframe thead th {\n",
       "        text-align: right;\n",
       "    }\n",
       "</style>\n",
       "<table border=\"1\" class=\"dataframe\">\n",
       "  <thead>\n",
       "    <tr style=\"text-align: right;\">\n",
       "      <th></th>\n",
       "      <th>MODEL</th>\n",
       "      <th>THRESHOLD</th>\n",
       "      <th>GINI SCORE</th>\n",
       "      <th>ROC_AUC</th>\n",
       "      <th>PRECISION</th>\n",
       "      <th>RECALL</th>\n",
       "      <th>F1_SCORE</th>\n",
       "      <th>ACCURACY</th>\n",
       "      <th>TP</th>\n",
       "      <th>FP</th>\n",
       "      <th>TN</th>\n",
       "      <th>FN</th>\n",
       "    </tr>\n",
       "  </thead>\n",
       "  <tbody>\n",
       "    <tr>\n",
       "      <th>0</th>\n",
       "      <td>Gradient Boosting</td>\n",
       "      <td>0.445562</td>\n",
       "      <td>0.672189</td>\n",
       "      <td>0.836095</td>\n",
       "      <td>0.859052</td>\n",
       "      <td>0.705354</td>\n",
       "      <td>0.774653</td>\n",
       "      <td>0.908593</td>\n",
       "      <td>2121</td>\n",
       "      <td>348</td>\n",
       "      <td>10145</td>\n",
       "      <td>886</td>\n",
       "    </tr>\n",
       "  </tbody>\n",
       "</table>\n",
       "</div>"
      ],
      "text/plain": [
       "               MODEL  THRESHOLD  GINI SCORE   ROC_AUC  PRECISION    RECALL  \\\n",
       "0  Gradient Boosting   0.445562    0.672189  0.836095   0.859052  0.705354   \n",
       "\n",
       "   F1_SCORE  ACCURACY    TP   FP     TN   FN  \n",
       "0  0.774653  0.908593  2121  348  10145  886  "
      ]
     },
     "execution_count": 79,
     "metadata": {},
     "output_type": "execute_result"
    }
   ],
   "source": [
    "gbc_after_tuning"
   ]
  },
  {
   "cell_type": "markdown",
   "id": "d36f9f5a",
   "metadata": {},
   "source": [
    "**5. KNN**"
   ]
  },
  {
   "cell_type": "code",
   "execution_count": 80,
   "id": "b5251c44",
   "metadata": {},
   "outputs": [],
   "source": [
    "model5 = KNeighborsClassifier(n_neighbors=5, n_jobs=-1)"
   ]
  },
  {
   "cell_type": "code",
   "execution_count": 81,
   "id": "7d23f179",
   "metadata": {},
   "outputs": [],
   "source": [
    "hyperparameters5={'classifier__n_neighbors': np.arange(2, 30, 1),\n",
    "                \"classifier__metric\": [\"minkowski\", \"chebyshev\", \"cosine\"]}"
   ]
  },
  {
   "cell_type": "code",
   "execution_count": 82,
   "id": "166c6942",
   "metadata": {},
   "outputs": [
    {
     "name": "stdout",
     "output_type": "stream",
     "text": [
      "results_path: C:/Users/user/Desktop/analytics/my_projects/loan_approval\\1749649249889SMOTE_STANDARD_user/\n",
      "TIME TAKEN 486.0566635131836\n"
     ]
    }
   ],
   "source": [
    "knn_preds,knn_predictions,knn_before_tuning,knn_after_tuning = cut_off(scale = scale,model_name = 'KNN Classifier',\n",
    "                                                             model=model5,hyperparameters=hyperparameters5)"
   ]
  },
  {
   "cell_type": "code",
   "execution_count": 83,
   "id": "9e9b8702",
   "metadata": {},
   "outputs": [
    {
     "data": {
      "text/html": [
       "<div>\n",
       "<style scoped>\n",
       "    .dataframe tbody tr th:only-of-type {\n",
       "        vertical-align: middle;\n",
       "    }\n",
       "\n",
       "    .dataframe tbody tr th {\n",
       "        vertical-align: top;\n",
       "    }\n",
       "\n",
       "    .dataframe thead th {\n",
       "        text-align: right;\n",
       "    }\n",
       "</style>\n",
       "<table border=\"1\" class=\"dataframe\">\n",
       "  <thead>\n",
       "    <tr style=\"text-align: right;\">\n",
       "      <th></th>\n",
       "      <th>MODEL</th>\n",
       "      <th>THRESHOLD</th>\n",
       "      <th>GINI SCORE</th>\n",
       "      <th>ROC_AUC</th>\n",
       "      <th>PRECISION</th>\n",
       "      <th>RECALL</th>\n",
       "      <th>F1_SCORE</th>\n",
       "      <th>ACCURACY</th>\n",
       "      <th>TP</th>\n",
       "      <th>FP</th>\n",
       "      <th>TN</th>\n",
       "      <th>FN</th>\n",
       "    </tr>\n",
       "  </thead>\n",
       "  <tbody>\n",
       "    <tr>\n",
       "      <th>0</th>\n",
       "      <td>KNN Classifier</td>\n",
       "      <td>0.6</td>\n",
       "      <td>0.527549</td>\n",
       "      <td>0.763775</td>\n",
       "      <td>0.797297</td>\n",
       "      <td>0.569006</td>\n",
       "      <td>0.664079</td>\n",
       "      <td>0.871778</td>\n",
       "      <td>1711</td>\n",
       "      <td>435</td>\n",
       "      <td>10058</td>\n",
       "      <td>1296</td>\n",
       "    </tr>\n",
       "  </tbody>\n",
       "</table>\n",
       "</div>"
      ],
      "text/plain": [
       "            MODEL  THRESHOLD  GINI SCORE   ROC_AUC  PRECISION    RECALL  \\\n",
       "0  KNN Classifier        0.6    0.527549  0.763775   0.797297  0.569006   \n",
       "\n",
       "   F1_SCORE  ACCURACY    TP   FP     TN    FN  \n",
       "0  0.664079  0.871778  1711  435  10058  1296  "
      ]
     },
     "execution_count": 83,
     "metadata": {},
     "output_type": "execute_result"
    }
   ],
   "source": [
    "knn_before_tuning"
   ]
  },
  {
   "cell_type": "code",
   "execution_count": 84,
   "id": "1e347d07",
   "metadata": {},
   "outputs": [
    {
     "data": {
      "text/html": [
       "<div>\n",
       "<style scoped>\n",
       "    .dataframe tbody tr th:only-of-type {\n",
       "        vertical-align: middle;\n",
       "    }\n",
       "\n",
       "    .dataframe tbody tr th {\n",
       "        vertical-align: top;\n",
       "    }\n",
       "\n",
       "    .dataframe thead th {\n",
       "        text-align: right;\n",
       "    }\n",
       "</style>\n",
       "<table border=\"1\" class=\"dataframe\">\n",
       "  <thead>\n",
       "    <tr style=\"text-align: right;\">\n",
       "      <th></th>\n",
       "      <th>MODEL</th>\n",
       "      <th>THRESHOLD</th>\n",
       "      <th>GINI SCORE</th>\n",
       "      <th>ROC_AUC</th>\n",
       "      <th>PRECISION</th>\n",
       "      <th>RECALL</th>\n",
       "      <th>F1_SCORE</th>\n",
       "      <th>ACCURACY</th>\n",
       "      <th>TP</th>\n",
       "      <th>FP</th>\n",
       "      <th>TN</th>\n",
       "      <th>FN</th>\n",
       "    </tr>\n",
       "  </thead>\n",
       "  <tbody>\n",
       "    <tr>\n",
       "      <th>0</th>\n",
       "      <td>KNN Classifier</td>\n",
       "      <td>0.5</td>\n",
       "      <td>0.56274</td>\n",
       "      <td>0.78137</td>\n",
       "      <td>0.668134</td>\n",
       "      <td>0.656136</td>\n",
       "      <td>0.662081</td>\n",
       "      <td>0.850815</td>\n",
       "      <td>1973</td>\n",
       "      <td>980</td>\n",
       "      <td>9513</td>\n",
       "      <td>1034</td>\n",
       "    </tr>\n",
       "  </tbody>\n",
       "</table>\n",
       "</div>"
      ],
      "text/plain": [
       "            MODEL  THRESHOLD  GINI SCORE  ROC_AUC  PRECISION    RECALL  \\\n",
       "0  KNN Classifier        0.5     0.56274  0.78137   0.668134  0.656136   \n",
       "\n",
       "   F1_SCORE  ACCURACY    TP   FP    TN    FN  \n",
       "0  0.662081  0.850815  1973  980  9513  1034  "
      ]
     },
     "execution_count": 84,
     "metadata": {},
     "output_type": "execute_result"
    }
   ],
   "source": [
    "knn_after_tuning"
   ]
  },
  {
   "cell_type": "markdown",
   "id": "2e8c3641",
   "metadata": {},
   "source": [
    "**6. NAIVE BAYES**"
   ]
  },
  {
   "cell_type": "code",
   "execution_count": 85,
   "id": "196c757e",
   "metadata": {},
   "outputs": [],
   "source": [
    "model6 = GaussianNB()"
   ]
  },
  {
   "cell_type": "code",
   "execution_count": 86,
   "id": "d698c535",
   "metadata": {},
   "outputs": [],
   "source": [
    "hyperparameters6 = {\n",
    "    \"classifier__var_smoothing\": np.logspace(-12, -2, 11)  # 1e-12 … 1e-2\n",
    "}"
   ]
  },
  {
   "cell_type": "code",
   "execution_count": 87,
   "id": "a02aca2d",
   "metadata": {},
   "outputs": [
    {
     "name": "stdout",
     "output_type": "stream",
     "text": [
      "results_path: C:/Users/user/Desktop/analytics/my_projects/loan_approval\\1749649249889SMOTE_STANDARD_user/\n",
      "TIME TAKEN 14.85905122756958\n"
     ]
    }
   ],
   "source": [
    "nb_preds,knn_predictions,nb_before_tuning,nb_after_tuning = cut_off(scale = scale,model_name = 'Naive Bayes Classifier',\n",
    "                                                             model=model6,hyperparameters=hyperparameters6)"
   ]
  },
  {
   "cell_type": "code",
   "execution_count": 88,
   "id": "78df96ff",
   "metadata": {},
   "outputs": [
    {
     "data": {
      "text/html": [
       "<div>\n",
       "<style scoped>\n",
       "    .dataframe tbody tr th:only-of-type {\n",
       "        vertical-align: middle;\n",
       "    }\n",
       "\n",
       "    .dataframe tbody tr th {\n",
       "        vertical-align: top;\n",
       "    }\n",
       "\n",
       "    .dataframe thead th {\n",
       "        text-align: right;\n",
       "    }\n",
       "</style>\n",
       "<table border=\"1\" class=\"dataframe\">\n",
       "  <thead>\n",
       "    <tr style=\"text-align: right;\">\n",
       "      <th></th>\n",
       "      <th>MODEL</th>\n",
       "      <th>THRESHOLD</th>\n",
       "      <th>GINI SCORE</th>\n",
       "      <th>ROC_AUC</th>\n",
       "      <th>PRECISION</th>\n",
       "      <th>RECALL</th>\n",
       "      <th>F1_SCORE</th>\n",
       "      <th>ACCURACY</th>\n",
       "      <th>TP</th>\n",
       "      <th>FP</th>\n",
       "      <th>TN</th>\n",
       "      <th>FN</th>\n",
       "    </tr>\n",
       "  </thead>\n",
       "  <tbody>\n",
       "    <tr>\n",
       "      <th>0</th>\n",
       "      <td>Naive Bayes Classifier</td>\n",
       "      <td>0.294611</td>\n",
       "      <td>0.41334</td>\n",
       "      <td>0.70667</td>\n",
       "      <td>0.455136</td>\n",
       "      <td>0.629199</td>\n",
       "      <td>0.528197</td>\n",
       "      <td>0.74963</td>\n",
       "      <td>1892</td>\n",
       "      <td>2265</td>\n",
       "      <td>8228</td>\n",
       "      <td>1115</td>\n",
       "    </tr>\n",
       "  </tbody>\n",
       "</table>\n",
       "</div>"
      ],
      "text/plain": [
       "                    MODEL  THRESHOLD  GINI SCORE  ROC_AUC  PRECISION  \\\n",
       "0  Naive Bayes Classifier   0.294611     0.41334  0.70667   0.455136   \n",
       "\n",
       "     RECALL  F1_SCORE  ACCURACY    TP    FP    TN    FN  \n",
       "0  0.629199  0.528197   0.74963  1892  2265  8228  1115  "
      ]
     },
     "execution_count": 88,
     "metadata": {},
     "output_type": "execute_result"
    }
   ],
   "source": [
    "nb_before_tuning"
   ]
  },
  {
   "cell_type": "code",
   "execution_count": 89,
   "id": "f0f0fdc3",
   "metadata": {},
   "outputs": [
    {
     "data": {
      "text/html": [
       "<div>\n",
       "<style scoped>\n",
       "    .dataframe tbody tr th:only-of-type {\n",
       "        vertical-align: middle;\n",
       "    }\n",
       "\n",
       "    .dataframe tbody tr th {\n",
       "        vertical-align: top;\n",
       "    }\n",
       "\n",
       "    .dataframe thead th {\n",
       "        text-align: right;\n",
       "    }\n",
       "</style>\n",
       "<table border=\"1\" class=\"dataframe\">\n",
       "  <thead>\n",
       "    <tr style=\"text-align: right;\">\n",
       "      <th></th>\n",
       "      <th>MODEL</th>\n",
       "      <th>THRESHOLD</th>\n",
       "      <th>GINI SCORE</th>\n",
       "      <th>ROC_AUC</th>\n",
       "      <th>PRECISION</th>\n",
       "      <th>RECALL</th>\n",
       "      <th>F1_SCORE</th>\n",
       "      <th>ACCURACY</th>\n",
       "      <th>TP</th>\n",
       "      <th>FP</th>\n",
       "      <th>TN</th>\n",
       "      <th>FN</th>\n",
       "    </tr>\n",
       "  </thead>\n",
       "  <tbody>\n",
       "    <tr>\n",
       "      <th>0</th>\n",
       "      <td>Naive Bayes Classifier</td>\n",
       "      <td>0.305943</td>\n",
       "      <td>0.415285</td>\n",
       "      <td>0.707643</td>\n",
       "      <td>0.455111</td>\n",
       "      <td>0.632192</td>\n",
       "      <td>0.529232</td>\n",
       "      <td>0.749481</td>\n",
       "      <td>1901</td>\n",
       "      <td>2276</td>\n",
       "      <td>8217</td>\n",
       "      <td>1106</td>\n",
       "    </tr>\n",
       "  </tbody>\n",
       "</table>\n",
       "</div>"
      ],
      "text/plain": [
       "                    MODEL  THRESHOLD  GINI SCORE   ROC_AUC  PRECISION  \\\n",
       "0  Naive Bayes Classifier   0.305943    0.415285  0.707643   0.455111   \n",
       "\n",
       "     RECALL  F1_SCORE  ACCURACY    TP    FP    TN    FN  \n",
       "0  0.632192  0.529232  0.749481  1901  2276  8217  1106  "
      ]
     },
     "execution_count": 89,
     "metadata": {},
     "output_type": "execute_result"
    }
   ],
   "source": [
    "nb_after_tuning"
   ]
  },
  {
   "cell_type": "markdown",
   "id": "da9eaee6",
   "metadata": {},
   "source": [
    "**COLLATE ALL SCORES**"
   ]
  },
  {
   "cell_type": "code",
   "execution_count": 90,
   "id": "69ce8b61",
   "metadata": {},
   "outputs": [
    {
     "data": {
      "text/html": [
       "<div>\n",
       "<style scoped>\n",
       "    .dataframe tbody tr th:only-of-type {\n",
       "        vertical-align: middle;\n",
       "    }\n",
       "\n",
       "    .dataframe tbody tr th {\n",
       "        vertical-align: top;\n",
       "    }\n",
       "\n",
       "    .dataframe thead th {\n",
       "        text-align: right;\n",
       "    }\n",
       "</style>\n",
       "<table border=\"1\" class=\"dataframe\">\n",
       "  <thead>\n",
       "    <tr style=\"text-align: right;\">\n",
       "      <th></th>\n",
       "      <th>MODEL</th>\n",
       "      <th>THRESHOLD</th>\n",
       "      <th>GINI SCORE</th>\n",
       "      <th>ROC_AUC</th>\n",
       "      <th>PRECISION</th>\n",
       "      <th>RECALL</th>\n",
       "      <th>F1_SCORE</th>\n",
       "      <th>ACCURACY</th>\n",
       "      <th>TP</th>\n",
       "      <th>FP</th>\n",
       "      <th>TN</th>\n",
       "      <th>FN</th>\n",
       "    </tr>\n",
       "  </thead>\n",
       "  <tbody>\n",
       "    <tr>\n",
       "      <th>0</th>\n",
       "      <td>Random Forest Classifier</td>\n",
       "      <td>0.520000</td>\n",
       "      <td>0.646098</td>\n",
       "      <td>0.823049</td>\n",
       "      <td>0.843403</td>\n",
       "      <td>0.682408</td>\n",
       "      <td>0.754412</td>\n",
       "      <td>0.901037</td>\n",
       "      <td>2052</td>\n",
       "      <td>381</td>\n",
       "      <td>10112</td>\n",
       "      <td>955</td>\n",
       "    </tr>\n",
       "    <tr>\n",
       "      <th>0</th>\n",
       "      <td>Gradient Boosting</td>\n",
       "      <td>0.519755</td>\n",
       "      <td>0.635756</td>\n",
       "      <td>0.817878</td>\n",
       "      <td>0.859101</td>\n",
       "      <td>0.667110</td>\n",
       "      <td>0.751030</td>\n",
       "      <td>0.901481</td>\n",
       "      <td>2006</td>\n",
       "      <td>329</td>\n",
       "      <td>10164</td>\n",
       "      <td>1001</td>\n",
       "    </tr>\n",
       "    <tr>\n",
       "      <th>0</th>\n",
       "      <td>Decision Tree</td>\n",
       "      <td>0.819482</td>\n",
       "      <td>0.613771</td>\n",
       "      <td>0.806886</td>\n",
       "      <td>0.812834</td>\n",
       "      <td>0.657133</td>\n",
       "      <td>0.726738</td>\n",
       "      <td>0.889926</td>\n",
       "      <td>1976</td>\n",
       "      <td>455</td>\n",
       "      <td>10038</td>\n",
       "      <td>1031</td>\n",
       "    </tr>\n",
       "    <tr>\n",
       "      <th>0</th>\n",
       "      <td>KNN Classifier</td>\n",
       "      <td>0.600000</td>\n",
       "      <td>0.527549</td>\n",
       "      <td>0.763775</td>\n",
       "      <td>0.797297</td>\n",
       "      <td>0.569006</td>\n",
       "      <td>0.664079</td>\n",
       "      <td>0.871778</td>\n",
       "      <td>1711</td>\n",
       "      <td>435</td>\n",
       "      <td>10058</td>\n",
       "      <td>1296</td>\n",
       "    </tr>\n",
       "    <tr>\n",
       "      <th>0</th>\n",
       "      <td>Logistic Regression</td>\n",
       "      <td>0.326876</td>\n",
       "      <td>0.555493</td>\n",
       "      <td>0.777747</td>\n",
       "      <td>0.574681</td>\n",
       "      <td>0.705022</td>\n",
       "      <td>0.633214</td>\n",
       "      <td>0.818074</td>\n",
       "      <td>2120</td>\n",
       "      <td>1569</td>\n",
       "      <td>8924</td>\n",
       "      <td>887</td>\n",
       "    </tr>\n",
       "    <tr>\n",
       "      <th>0</th>\n",
       "      <td>Naive Bayes Classifier</td>\n",
       "      <td>0.294611</td>\n",
       "      <td>0.413340</td>\n",
       "      <td>0.706670</td>\n",
       "      <td>0.455136</td>\n",
       "      <td>0.629199</td>\n",
       "      <td>0.528197</td>\n",
       "      <td>0.749630</td>\n",
       "      <td>1892</td>\n",
       "      <td>2265</td>\n",
       "      <td>8228</td>\n",
       "      <td>1115</td>\n",
       "    </tr>\n",
       "  </tbody>\n",
       "</table>\n",
       "</div>"
      ],
      "text/plain": [
       "                      MODEL  THRESHOLD  GINI SCORE   ROC_AUC  PRECISION  \\\n",
       "0  Random Forest Classifier   0.520000    0.646098  0.823049   0.843403   \n",
       "0         Gradient Boosting   0.519755    0.635756  0.817878   0.859101   \n",
       "0             Decision Tree   0.819482    0.613771  0.806886   0.812834   \n",
       "0            KNN Classifier   0.600000    0.527549  0.763775   0.797297   \n",
       "0       Logistic Regression   0.326876    0.555493  0.777747   0.574681   \n",
       "0    Naive Bayes Classifier   0.294611    0.413340  0.706670   0.455136   \n",
       "\n",
       "     RECALL  F1_SCORE  ACCURACY    TP    FP     TN    FN  \n",
       "0  0.682408  0.754412  0.901037  2052   381  10112   955  \n",
       "0  0.667110  0.751030  0.901481  2006   329  10164  1001  \n",
       "0  0.657133  0.726738  0.889926  1976   455  10038  1031  \n",
       "0  0.569006  0.664079  0.871778  1711   435  10058  1296  \n",
       "0  0.705022  0.633214  0.818074  2120  1569   8924   887  \n",
       "0  0.629199  0.528197  0.749630  1892  2265   8228  1115  "
      ]
     },
     "execution_count": 90,
     "metadata": {},
     "output_type": "execute_result"
    }
   ],
   "source": [
    "scores_before_tuning = [rf_before_tuning,dt_before_tuning,lg_before_tuning,gbc_before_tuning,knn_before_tuning,nb_before_tuning]\n",
    "finalscores = pd.concat(scores_before_tuning,axis=0)\n",
    "finalscores.sort_values(by='F1_SCORE',ascending=False)"
   ]
  },
  {
   "cell_type": "code",
   "execution_count": 91,
   "id": "ddfb6254",
   "metadata": {},
   "outputs": [],
   "source": [
    "finalscores.to_csv(results_path+\"final_scores_before_tuning.csv\",index=False)"
   ]
  },
  {
   "cell_type": "code",
   "execution_count": 92,
   "id": "cfb5a6ed",
   "metadata": {},
   "outputs": [
    {
     "data": {
      "text/html": [
       "<div>\n",
       "<style scoped>\n",
       "    .dataframe tbody tr th:only-of-type {\n",
       "        vertical-align: middle;\n",
       "    }\n",
       "\n",
       "    .dataframe tbody tr th {\n",
       "        vertical-align: top;\n",
       "    }\n",
       "\n",
       "    .dataframe thead th {\n",
       "        text-align: right;\n",
       "    }\n",
       "</style>\n",
       "<table border=\"1\" class=\"dataframe\">\n",
       "  <thead>\n",
       "    <tr style=\"text-align: right;\">\n",
       "      <th></th>\n",
       "      <th>MODEL</th>\n",
       "      <th>THRESHOLD</th>\n",
       "      <th>GINI SCORE</th>\n",
       "      <th>ROC_AUC</th>\n",
       "      <th>PRECISION</th>\n",
       "      <th>RECALL</th>\n",
       "      <th>F1_SCORE</th>\n",
       "      <th>ACCURACY</th>\n",
       "      <th>TP</th>\n",
       "      <th>FP</th>\n",
       "      <th>TN</th>\n",
       "      <th>FN</th>\n",
       "    </tr>\n",
       "  </thead>\n",
       "  <tbody>\n",
       "    <tr>\n",
       "      <th>0</th>\n",
       "      <td>Gradient Boosting</td>\n",
       "      <td>0.445562</td>\n",
       "      <td>0.672189</td>\n",
       "      <td>0.836095</td>\n",
       "      <td>0.859052</td>\n",
       "      <td>0.705354</td>\n",
       "      <td>0.774653</td>\n",
       "      <td>0.908593</td>\n",
       "      <td>2121</td>\n",
       "      <td>348</td>\n",
       "      <td>10145</td>\n",
       "      <td>886</td>\n",
       "    </tr>\n",
       "    <tr>\n",
       "      <th>0</th>\n",
       "      <td>Random Forest Classifier</td>\n",
       "      <td>0.506667</td>\n",
       "      <td>0.646662</td>\n",
       "      <td>0.823331</td>\n",
       "      <td>0.836378</td>\n",
       "      <td>0.685068</td>\n",
       "      <td>0.753199</td>\n",
       "      <td>0.900000</td>\n",
       "      <td>2060</td>\n",
       "      <td>403</td>\n",
       "      <td>10090</td>\n",
       "      <td>947</td>\n",
       "    </tr>\n",
       "    <tr>\n",
       "      <th>0</th>\n",
       "      <td>Decision Tree</td>\n",
       "      <td>0.546988</td>\n",
       "      <td>0.635453</td>\n",
       "      <td>0.817726</td>\n",
       "      <td>0.787452</td>\n",
       "      <td>0.688726</td>\n",
       "      <td>0.734788</td>\n",
       "      <td>0.889259</td>\n",
       "      <td>2071</td>\n",
       "      <td>559</td>\n",
       "      <td>9934</td>\n",
       "      <td>936</td>\n",
       "    </tr>\n",
       "    <tr>\n",
       "      <th>0</th>\n",
       "      <td>KNN Classifier</td>\n",
       "      <td>0.500000</td>\n",
       "      <td>0.562740</td>\n",
       "      <td>0.781370</td>\n",
       "      <td>0.668134</td>\n",
       "      <td>0.656136</td>\n",
       "      <td>0.662081</td>\n",
       "      <td>0.850815</td>\n",
       "      <td>1973</td>\n",
       "      <td>980</td>\n",
       "      <td>9513</td>\n",
       "      <td>1034</td>\n",
       "    </tr>\n",
       "    <tr>\n",
       "      <th>0</th>\n",
       "      <td>Logistic Regression</td>\n",
       "      <td>0.327261</td>\n",
       "      <td>0.555542</td>\n",
       "      <td>0.777771</td>\n",
       "      <td>0.575190</td>\n",
       "      <td>0.704689</td>\n",
       "      <td>0.633388</td>\n",
       "      <td>0.818296</td>\n",
       "      <td>2119</td>\n",
       "      <td>1565</td>\n",
       "      <td>8928</td>\n",
       "      <td>888</td>\n",
       "    </tr>\n",
       "    <tr>\n",
       "      <th>0</th>\n",
       "      <td>Naive Bayes Classifier</td>\n",
       "      <td>0.305943</td>\n",
       "      <td>0.415285</td>\n",
       "      <td>0.707643</td>\n",
       "      <td>0.455111</td>\n",
       "      <td>0.632192</td>\n",
       "      <td>0.529232</td>\n",
       "      <td>0.749481</td>\n",
       "      <td>1901</td>\n",
       "      <td>2276</td>\n",
       "      <td>8217</td>\n",
       "      <td>1106</td>\n",
       "    </tr>\n",
       "  </tbody>\n",
       "</table>\n",
       "</div>"
      ],
      "text/plain": [
       "                      MODEL  THRESHOLD  GINI SCORE   ROC_AUC  PRECISION  \\\n",
       "0         Gradient Boosting   0.445562    0.672189  0.836095   0.859052   \n",
       "0  Random Forest Classifier   0.506667    0.646662  0.823331   0.836378   \n",
       "0             Decision Tree   0.546988    0.635453  0.817726   0.787452   \n",
       "0            KNN Classifier   0.500000    0.562740  0.781370   0.668134   \n",
       "0       Logistic Regression   0.327261    0.555542  0.777771   0.575190   \n",
       "0    Naive Bayes Classifier   0.305943    0.415285  0.707643   0.455111   \n",
       "\n",
       "     RECALL  F1_SCORE  ACCURACY    TP    FP     TN    FN  \n",
       "0  0.705354  0.774653  0.908593  2121   348  10145   886  \n",
       "0  0.685068  0.753199  0.900000  2060   403  10090   947  \n",
       "0  0.688726  0.734788  0.889259  2071   559   9934   936  \n",
       "0  0.656136  0.662081  0.850815  1973   980   9513  1034  \n",
       "0  0.704689  0.633388  0.818296  2119  1565   8928   888  \n",
       "0  0.632192  0.529232  0.749481  1901  2276   8217  1106  "
      ]
     },
     "execution_count": 92,
     "metadata": {},
     "output_type": "execute_result"
    }
   ],
   "source": [
    "scores_after_tuning = [rf_after_tuning,dt_after_tuning,lg_after_tuning,gbc_after_tuning,knn_after_tuning,nb_after_tuning]\n",
    "finalscores_tuned = pd.concat(scores_after_tuning,axis=0)\n",
    "finalscores_tuned.sort_values(by='F1_SCORE',ascending=False)"
   ]
  },
  {
   "cell_type": "code",
   "execution_count": 93,
   "id": "08f2d158",
   "metadata": {},
   "outputs": [],
   "source": [
    "finalscores_tuned.to_csv(results_path+\"final_scores_after_tuning.csv\",index=False)"
   ]
  },
  {
   "cell_type": "code",
   "execution_count": 94,
   "id": "b8bb4e52",
   "metadata": {},
   "outputs": [],
   "source": [
    "file_end = time.time()"
   ]
  },
  {
   "cell_type": "code",
   "execution_count": 96,
   "id": "9ad864ba",
   "metadata": {},
   "outputs": [
    {
     "name": "stdout",
     "output_type": "stream",
     "text": [
      "TOTAL RUNTIME 1.008800112605095 Hour\n"
     ]
    }
   ],
   "source": [
    "print(\"TOTAL RUNTIME\", (file_end - file_start)/3600 , \"Hour\")"
   ]
  },
  {
   "cell_type": "code",
   "execution_count": null,
   "id": "f881629f",
   "metadata": {},
   "outputs": [],
   "source": []
  }
 ],
 "metadata": {
  "kernelspec": {
   "display_name": "Python 3 (ipykernel)",
   "language": "python",
   "name": "python3"
  },
  "language_info": {
   "codemirror_mode": {
    "name": "ipython",
    "version": 3
   },
   "file_extension": ".py",
   "mimetype": "text/x-python",
   "name": "python",
   "nbconvert_exporter": "python",
   "pygments_lexer": "ipython3",
   "version": "3.9.13"
  }
 },
 "nbformat": 4,
 "nbformat_minor": 5
}
